{
  "cells": [
    {
      "cell_type": "markdown",
      "metadata": {},
      "source": [
        "# Notebook: Consultas T-SQL con Northwind\n",
        "\n",
        "Este notebook está diseñado para practicar **consultas T-SQL** utilizando la base de datos Northwind.\n",
        "Aprenderás SELECT, FROM, WHERE, operadores, BETWEEN, IN, LIKE, ORDER BY, GROUP BY, HAVING, funciones de agregado, y JOINs."
      ]
    },
    {
      "cell_type": "markdown",
      "metadata": {},
      "source": [
        "## Ejercicio 1: SELECT básico\n",
        "Mostrar el nombre de todos los productos."
      ]
    },
    {
      "cell_type": "code",
      "metadata": {},
      "source": [
        "SELECT ProductName\n",
        "FROM Products;"
      ]
    },
    {
      "cell_type": "markdown",
      "metadata": {},
      "source": [
        "## Ejercicio 2: SELECT con múltiples columnas\n",
        "Mostrar nombre y precio unitario de los productos."
      ]
    },
    {
      "cell_type": "code",
      "metadata": {},
      "source": [
        "SELECT ProductName, UnitPrice\n",
        "FROM Products;"
      ]
    },
    {
      "cell_type": "markdown",
      "metadata": {},
      "source": [
        "## Ejercicio 3: WHERE y operadores relacionales\n",
        "Productos con precio mayor a 50."
      ]
    },
    {
      "cell_type": "code",
      "metadata": {},
      "source": [
        "SELECT ProductName, UnitPrice\n",
        "FROM Products\n",
        "WHERE UnitPrice > 50;"
      ]
    },
    {
      "cell_type": "markdown",
      "metadata": {},
      "source": [
        "## Ejercicio 4: Operadores lógicos\n",
        "Productos con precio > 50 y stock > 20."
      ]
    },
    {
      "cell_type": "code",
      "metadata": {},
      "source": [
        "SELECT ProductName, UnitPrice, UnitsInStock\n",
        "FROM Products\n",
        "WHERE UnitPrice > 50 AND UnitsInStock > 20;"
      ]
    },
    {
      "cell_type": "markdown",
      "metadata": {},
      "source": [
        "## Ejercicio 5: Operadores aritméticos\n",
        "Precio, descuento 10% y precio final."
      ]
    },
    {
      "cell_type": "code",
      "metadata": {},
      "source": [
        "SELECT ProductName, UnitPrice,\n",
        "       UnitPrice * 0.10 AS Descuento,\n",
        "       UnitPrice - (UnitPrice * 0.10) AS PrecioConDescuento\n",
        "FROM Products;"
      ]
    },
    {
      "cell_type": "markdown",
      "metadata": {},
      "source": [
        "## Ejercicio 6: BETWEEN\n",
        "Productos con precio entre 20 y 30."
      ]
    },
    {
      "cell_type": "code",
      "metadata": {},
      "source": [
        "SELECT ProductName, UnitPrice\n",
        "FROM Products\n",
        "WHERE UnitPrice BETWEEN 20 AND 30;"
      ]
    },
    {
      "cell_type": "markdown",
      "metadata": {},
      "source": [
        "## Ejercicio 7: IN\n",
        "Productos de categorías 1, 3 y 5."
      ]
    },
    {
      "cell_type": "code",
      "metadata": {},
      "source": [
        "SELECT ProductName, CategoryID\n",
        "FROM Products\n",
        "WHERE CategoryID IN (1, 3, 5);"
      ]
    },
    {
      "cell_type": "markdown",
      "metadata": {},
      "source": [
        "## Ejercicio 8: LIKE\n",
        "Clientes cuyo nombre de compañía empiece con 'A'."
      ]
    },
    {
      "cell_type": "code",
      "metadata": {},
      "source": [
        "SELECT CompanyName, ContactName\n",
        "FROM Customers\n",
        "WHERE CompanyName LIKE 'A%';"
      ]
    },
    {
      "cell_type": "markdown",
      "metadata": {},
      "source": [
        "## Ejercicio 9: ORDER BY\n",
        "Empleados ordenados por apellido ascendente."
      ]
    },
    {
      "cell_type": "code",
      "metadata": {},
      "source": [
        "SELECT LastName, FirstName, Title\n",
        "FROM Employees\n",
        "ORDER BY LastName ASC;"
      ]
    },
    {
      "cell_type": "markdown",
      "metadata": {},
      "source": [
        "## Ejercicio 10: GROUP BY\n",
        "Cantidad de productos por categoría."
      ]
    },
    {
      "cell_type": "code",
      "metadata": {},
      "source": [
        "SELECT CategoryID, COUNT(*) AS TotalProductos\n",
        "FROM Products\n",
        "GROUP BY CategoryID;"
      ]
    },
    {
      "cell_type": "markdown",
      "metadata": {},
      "source": [
        "## Ejercicio 11: HAVING\n",
        "Categorías con más de 10 productos."
      ]
    },
    {
      "cell_type": "code",
      "metadata": {},
      "source": [
        "SELECT CategoryID, COUNT(*) AS TotalProductos\n",
        "FROM Products\n",
        "GROUP BY CategoryID\n",
        "HAVING COUNT(*) > 10;"
      ]
    },
    {
      "cell_type": "markdown",
      "metadata": {},
      "source": [
        "## Ejercicio 12: JOINs\n",
        "Pedidos con nombre del cliente y empleado."
      ]
    },
    {
      "cell_type": "code",
      "metadata": {},
      "source": [
        "-- INNER JOIN\n",
        "SELECT Orders.OrderID, Customers.CompanyName, Employees.LastName\n",
        "FROM Orders\n",
        "INNER JOIN Customers ON Orders.CustomerID = Customers.CustomerID\n",
        "INNER JOIN Employees ON Orders.EmployeeID = Employees.EmployeeID;\n",
        "\n",
        "-- LEFT JOIN\n",
        "SELECT Customers.CompanyName, Orders.OrderID\n",
        "FROM Customers\n",
        "LEFT JOIN Orders ON Customers.CustomerID = Orders.CustomerID;\n",
        "\n",
        "-- RIGHT JOIN\n",
        "SELECT Customers.CompanyName, Orders.OrderID\n",
        "FROM Customers\n",
        "RIGHT JOIN Orders ON Customers.CustomerID = Orders.CustomerID;"
      ]
    },
    {
      "cell_type": "markdown",
      "metadata": {},
      "source": [
        "## Ejercicios para resolver\n",
        "A continuación, redacta las consultas desde cero en nuevas celdas de código:\n",
        "1. Listar productos con stock < 10, ordenados por precio descendente.\n",
        "2. Mostrar clientes de México, España o Argentina.\n",
        "3. Listar pedidos de 1997, mostrando ID y fecha.\n",
        "4. Obtener cantidad total de pedidos por cliente, solo los que tienen > 20 pedidos.\n",
        "5. Nombre de productos junto al nombre de su categoría (INNER JOIN).\n",
        "6. Todos los empleados y el número de pedidos que tienen (LEFT JOIN)."
      ]
    }
  ],
  "metadata": {
    "kernelspec": {
      "name": "mssql",
      "display_name": "SQL Server",
      "language": "sql"
    },
    "language_info": {
      "name": "sql"
    }
  },
  "nbformat": 4,
  "nbformat_minor": 2
}
