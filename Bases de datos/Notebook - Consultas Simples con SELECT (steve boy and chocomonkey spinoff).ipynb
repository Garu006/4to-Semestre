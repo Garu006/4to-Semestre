{
    "metadata": {
        "kernelspec": {
            "name": "SQL",
            "display_name": "SQL",
            "language": "sql"
        },
        "language_info": {
            "name": "sql",
            "version": ""
        }
    },
    "nbformat_minor": 2,
    "nbformat": 4,
    "cells": [
        {
            "cell_type": "markdown",
            "source": [
                "![Logo FIA.png](data:image/png;base64,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)\n",
                "\n",
                "# Notebook: Práctica#1 | Consultas simples con SELECT\n",
                "\n",
                "Este notebook está diseñado para practicar **consultas T-SQL** utilizando la base de datos Northwind. Aprenderás a utilizar SELECT, FROM, WHERE, operadores, BETWEEN, IN, LIKE, ORDER BY, GROUP BY, HAVING, funciones de agregado, y JOINs.\n",
                "\n",
                "🎯 **Objetivo de la práctica** \n",
                "\n",
                "- Usar correctamente la sentencia SELECT para recuperar datos de una o varias tablas.\n",
                "- Aplicar cláusulas de filtrado (WHERE, BETWEEN, IN, LIKE) y operadores relacionales, lógicos y aritméticos.\n",
                "- Implementar ordenamientos (ORDER BY) y alias para mejorar la presentación de los resultados.\n",
                "- Agrupar datos mediante GROUP BY y HAVING, y calcular funciones de agregado (COUNT, SUM, AVG, MIN, MAX).\n",
                "- Combinar datos de varias tablas mediante JOINs (INNER JOIN, LEFT JOIN, RIGHT JOIN) para obtener información integrada.\n",
                "- Resolver problemas prácticos que requieren pensamiento lógico y estructuración de consultas, a partir de escenarios reales en la base de datos Northwind.\n",
                "- Preparar al estudiante para documentar y presentar resultados de consultas de manera clara y profesional.\n",
                "- Consultas con SELECT La base de datos Northwind contiene información de una empresa ficticia de importación y exportación: clientes, empleados, pedidos, productos, proveedores, etc. El objetivo es aprender de forma progresiva la sentencia SELECT y sus cláusulas.\n",
                "\n",
                "## 🔹 Parte 1: Ejercicios Guiados (con código y documentación)"
            ],
            "metadata": {
                "azdata_cell_guid": "92109429-34e8-459b-8fe4-4da8aac496db"
            },
            "attachments": {}
        },
        {
            "cell_type": "markdown",
            "source": [
                "## Ejercicio 1: SELECT básico\n",
                "\n",
                "**Mostrar el nombre de todos los productos.**\n",
                "\n",
                "### Documentación"
            ],
            "metadata": {
                "azdata_cell_guid": "c5b61a2d-56e2-4b11-a145-10cfd20073f4"
            },
            "attachments": {}
        },
        {
            "cell_type": "code",
            "source": [
                "SELECT ProductName\n",
                "FROM Products;"
            ],
            "metadata": {
                "azdata_cell_guid": "b13a44e1-3b32-49d8-a181-2b2c2d996cbc",
                "language": "sql",
                "vscode": {
                    "languageId": "sql"
                }
            },
            "outputs": [],
            "execution_count": null
        },
        {
            "cell_type": "markdown",
            "source": [
                "## Ejercicio 2: SELECT con múltiples columnas\n",
                "\n",
                "**Mostrar nombre y precio unitario de los productos.**\n",
                "\n",
                "### Documentación"
            ],
            "metadata": {
                "azdata_cell_guid": "ba1c4d74-f7e0-47c4-8129-f244abe93f23"
            },
            "attachments": {}
        },
        {
            "cell_type": "code",
            "source": [
                "SELECT ProductName, UnitPrice\n",
                "FROM Products;"
            ],
            "metadata": {
                "azdata_cell_guid": "697f21d5-dd31-4689-b700-431ae3637763",
                "language": "sql",
                "vscode": {
                    "languageId": "sql"
                }
            },
            "outputs": [],
            "execution_count": null
        },
        {
            "cell_type": "markdown",
            "source": [
                "## Ejercicio 3: WHERE y operadores relacionales\n",
                "\n",
                "**Productos con precio mayor a 50**\n",
                "\n",
                "### Documentación"
            ],
            "metadata": {
                "azdata_cell_guid": "3da73ae9-1a1a-496b-bd6c-f36b5e1dfc3c"
            },
            "attachments": {}
        },
        {
            "cell_type": "code",
            "source": [
                "SELECT ProductName, UnitPrice\n",
                "FROM Products\n",
                "WHERE UnitPrice > 50;"
            ],
            "metadata": {
                "azdata_cell_guid": "b843240d-9eff-4024-979e-d675488304e2",
                "language": "sql",
                "vscode": {
                    "languageId": "sql"
                }
            },
            "outputs": [],
            "execution_count": null
        },
        {
            "cell_type": "markdown",
            "source": [
                "## Ejercicio 4: Operadores lógicos\n",
                "\n",
                "**Productos con precio > 50 y stock > 20**\n",
                "\n",
                "### Documentación"
            ],
            "metadata": {
                "azdata_cell_guid": "7c63cd40-975a-4e34-ace8-6e66731949c4"
            },
            "attachments": {}
        },
        {
            "cell_type": "code",
            "source": [
                "SELECT ProductName, UnitPrice, UnitsInStock\n",
                "FROM Products\n",
                "WHERE UnitPrice > 50 AND UnitsInStock > 20;"
            ],
            "metadata": {
                "azdata_cell_guid": "de4926e3-00a2-44cc-a4e0-90019928352c",
                "language": "sql",
                "vscode": {
                    "languageId": "sql"
                }
            },
            "outputs": [],
            "execution_count": null
        },
        {
            "cell_type": "markdown",
            "source": [
                "## Ejercicio 5: Operadores aritméticos\n",
                "\n",
                "**Precio, descuento 10% y precio final**\n",
                "\n",
                "### Documentación"
            ],
            "metadata": {
                "azdata_cell_guid": "1fe53c4f-5a8e-46c7-b04e-4618e2be7c08"
            },
            "attachments": {}
        },
        {
            "cell_type": "code",
            "source": [
                "SELECT ProductName, UnitPrice,\n",
                "       UnitPrice * 0.10 AS Descuento,\n",
                "       UnitPrice - (UnitPrice * 0.10) AS PrecioConDescuento\n",
                "FROM Products;"
            ],
            "metadata": {
                "azdata_cell_guid": "9dad65b7-8721-42fe-b5e7-4b67cd320966",
                "language": "sql",
                "vscode": {
                    "languageId": "sql"
                }
            },
            "outputs": [],
            "execution_count": null
        },
        {
            "cell_type": "markdown",
            "source": [
                "## Ejercicio 6: BETWEEN\n",
                "\n",
                "**Productos con precio entre 20 y 30**\n",
                "\n",
                "### Documentación"
            ],
            "metadata": {
                "azdata_cell_guid": "1af7f3b7-a9ab-4023-9409-5c4fde30cd70"
            },
            "attachments": {}
        },
        {
            "cell_type": "code",
            "source": [
                "SELECT ProductName, UnitPrice\n",
                "FROM Products\n",
                "WHERE UnitPrice BETWEEN 20 AND 30;"
            ],
            "metadata": {
                "azdata_cell_guid": "40326690-78b2-45d7-9259-43e12aff8ce5",
                "language": "sql",
                "tags": [],
                "vscode": {
                    "languageId": "sql"
                }
            },
            "outputs": [],
            "execution_count": null
        },
        {
            "cell_type": "markdown",
            "source": [
                "## Ejercicio 7: IN\n",
                "\n",
                "**Productos de categorías 1, 3 y 5**\n",
                "\n",
                "### Documentación"
            ],
            "metadata": {
                "azdata_cell_guid": "289c4df0-12a8-4fed-8582-b0ce46318da0"
            },
            "attachments": {}
        },
        {
            "cell_type": "code",
            "source": [
                "SELECT ProductName, CategoryID\n",
                "FROM Products\n",
                "WHERE CategoryID IN (1, 3, 5);"
            ],
            "metadata": {
                "azdata_cell_guid": "bbd2476b-fc10-483d-adc3-d5053349f92b",
                "language": "sql",
                "vscode": {
                    "languageId": "sql"
                }
            },
            "outputs": [],
            "execution_count": null
        },
        {
            "cell_type": "markdown",
            "source": [
                "## Ejercicio 8: LIKE\n",
                "\n",
                "**Clientes cuyo nombre de compañía empiece con 'A'**\n",
                "\n",
                "### Documentación"
            ],
            "metadata": {
                "azdata_cell_guid": "6e04ff6f-255c-4aaf-aacc-650e35cde550"
            },
            "attachments": {}
        },
        {
            "cell_type": "code",
            "source": [
                "SELECT CompanyName, ContactName\n",
                "FROM Customers\n",
                "WHERE CompanyName LIKE 'A%';"
            ],
            "metadata": {
                "azdata_cell_guid": "6f1a6577-91b8-4b26-be4e-f1d2f4f8611a",
                "language": "sql",
                "vscode": {
                    "languageId": "sql"
                }
            },
            "outputs": [],
            "execution_count": null
        },
        {
            "cell_type": "markdown",
            "source": [
                "## Ejercicio 9: ORDER BY\n",
                "\n",
                "**Empleados ordenados por apellido ascendente**\n",
                "\n",
                "### Documentación"
            ],
            "metadata": {
                "azdata_cell_guid": "a4acff74-f250-463d-8275-f4d596416d17"
            },
            "attachments": {}
        },
        {
            "cell_type": "code",
            "source": [
                "SELECT LastName, FirstName, Title\n",
                "FROM Employees\n",
                "ORDER BY LastName ASC;"
            ],
            "metadata": {
                "azdata_cell_guid": "1083e319-c3b6-4032-baef-154a11bcc087",
                "language": "sql",
                "vscode": {
                    "languageId": "sql"
                }
            },
            "outputs": [],
            "execution_count": null
        },
        {
            "cell_type": "markdown",
            "source": [
                "## Ejercicio 10: GROUP BY\n",
                "\n",
                "**Cantidad de productos por categoría**\n",
                "\n",
                "### Documentación"
            ],
            "metadata": {
                "azdata_cell_guid": "3f58b1f6-65af-4741-b0dd-0cb4e4feb44d"
            },
            "attachments": {}
        },
        {
            "cell_type": "code",
            "source": [
                "SELECT CategoryID, COUNT(*) AS TotalProductos\n",
                "FROM Products\n",
                "GROUP BY CategoryID;"
            ],
            "metadata": {
                "azdata_cell_guid": "57fa2d11-6b6d-412a-a2c9-be31ba3f5330",
                "language": "sql",
                "vscode": {
                    "languageId": "sql"
                }
            },
            "outputs": [
                {
                    "output_type": "display_data",
                    "data": {
                        "text/html": "(8 rows affected)"
                    },
                    "metadata": {}
                },
                {
                    "output_type": "display_data",
                    "data": {
                        "text/html": "Total execution time: 00:00:00.004"
                    },
                    "metadata": {}
                },
                {
                    "output_type": "execute_result",
                    "execution_count": 68,
                    "data": {
                        "application/vnd.dataresource+json": {
                            "schema": {
                                "fields": [
                                    {
                                        "name": "CategoryID"
                                    },
                                    {
                                        "name": "TotalProductos"
                                    }
                                ]
                            },
                            "data": [
                                {
                                    "CategoryID": "1",
                                    "TotalProductos": "12"
                                },
                                {
                                    "CategoryID": "2",
                                    "TotalProductos": "12"
                                },
                                {
                                    "CategoryID": "3",
                                    "TotalProductos": "13"
                                },
                                {
                                    "CategoryID": "4",
                                    "TotalProductos": "10"
                                },
                                {
                                    "CategoryID": "5",
                                    "TotalProductos": "7"
                                },
                                {
                                    "CategoryID": "6",
                                    "TotalProductos": "6"
                                },
                                {
                                    "CategoryID": "7",
                                    "TotalProductos": "5"
                                },
                                {
                                    "CategoryID": "8",
                                    "TotalProductos": "12"
                                }
                            ]
                        },
                        "text/html": "<table><tr><th>CategoryID</th><th>TotalProductos</th></tr><tr><td>1</td><td>12</td></tr><tr><td>2</td><td>12</td></tr><tr><td>3</td><td>13</td></tr><tr><td>4</td><td>10</td></tr><tr><td>5</td><td>7</td></tr><tr><td>6</td><td>6</td></tr><tr><td>7</td><td>5</td></tr><tr><td>8</td><td>12</td></tr></table>"
                    },
                    "metadata": {}
                }
            ],
            "execution_count": 68
        },
        {
            "cell_type": "markdown",
            "source": [
                "## Ejercicio 11: HAVING\n",
                "\n",
                "**Categorías con más de 10 productos**\n",
                "\n",
                "### Documentación"
            ],
            "metadata": {
                "azdata_cell_guid": "0b753efa-dedf-45e3-8862-ed0e71f65294"
            },
            "attachments": {}
        },
        {
            "cell_type": "code",
            "source": [
                "SELECT CategoryID, COUNT(*) AS TotalProductos\n",
                "FROM Products\n",
                "GROUP BY CategoryID\n",
                "HAVING COUNT(*) > 10;"
            ],
            "metadata": {
                "azdata_cell_guid": "b1c5c2bd-e955-4dc0-9d45-11167e0be25c",
                "language": "sql",
                "vscode": {
                    "languageId": "sql"
                }
            },
            "outputs": [],
            "execution_count": null
        },
        {
            "cell_type": "markdown",
            "source": [
                "## Ejercicio 12: JOINs\n",
                "\n",
                "**Pedidos con nombre del cliente y empleado**\n",
                "\n",
                "### Documentación"
            ],
            "metadata": {
                "azdata_cell_guid": "4d18e6bc-18a5-48ee-8302-56848ba39027"
            },
            "attachments": {}
        },
        {
            "cell_type": "code",
            "source": [
                "-- INNER JOIN\n",
                "SELECT Orders.OrderID, Customers.CompanyName, Employees.LastName\n",
                "FROM Orders\n",
                "INNER JOIN Customers ON Orders.CustomerID = Customers.CustomerID\n",
                "INNER JOIN Employees ON Orders.EmployeeID = Employees.EmployeeID;\n",
                "\n",
                "-- LEFT JOIN\n",
                "SELECT Customers.CompanyName, Orders.OrderID\n",
                "FROM Customers\n",
                "LEFT JOIN Orders ON Customers.CustomerID = Orders.CustomerID;\n",
                "\n",
                "-- RIGHT JOIN\n",
                "SELECT Customers.CompanyName, Orders.OrderID\n",
                "FROM Customers\n",
                "RIGHT JOIN Orders ON Customers.CustomerID = Orders.CustomerID;"
            ],
            "metadata": {
                "azdata_cell_guid": "823bf160-06f0-41df-a2b7-9e752c83ab68",
                "language": "sql",
                "vscode": {
                    "languageId": "sql"
                }
            },
            "outputs": [],
            "execution_count": null
        },
        {
            "cell_type": "markdown",
            "source": [
                "## 🔹 Parte 2: Ejercicios para resolver desde el inicio.</span>\n",
                "\n",
                "Para cada uno de los siguientes ejercicios agregue una celda de texto para explicar qué hace el script SQl (Celda de código) y la documentación asociada.\n",
                "\n",
                "## 🛠 Ejercicios para resolver\n",
                "\n",
                "Ahora es tu turno: redacta las consultas desde cero. Documenta el código para mayor claridad.\n",
                "\n",
                "1.\tListar los productos cuyo stock sea menor a 10 unidades y ordenarlos por precio de mayor a menor.\n",
                "\n",
                "2.\tMostrar el nombre de los clientes que sean de México, España o Argentina.\n",
                "\n",
                "3.\tListar los pedidos hechos en 1997, mostrando el ID de pedido y la fecha.\n",
                "\n",
                "4.\tObtener la cantidad total de pedidos por cliente y mostrar solo aquellos con más de 20 pedidos.\n",
                "\n",
                "5.\tMostrar el nombre de cada producto junto al nombre de su categoría (usar INNER JOIN).\n",
                "\n",
                "6.\tMostrar todos los empleados y, si tienen pedidos asignados, el número de pedidos (usar LEFT JOIN).\n",
                "\n",
                "7.\tMostrar el nombre y precio de los productos más caros de cada categoría.\n",
                "\n",
                "8.\tMostrar el nombre de los clientes y la fecha de sus pedidos realizados entre el 1 de enero de 1997 y el 31 de diciembre de 1997.\n",
                "\n",
                "\n"
            ],
            "metadata": {
                "azdata_cell_guid": "f4599a29-5924-4dad-bd7e-e4060e83d57c"
            },
            "attachments": {}
        },
        {
            "cell_type": "markdown",
            "source": [
                "1\\. Listar los productos cuyo stock sea menor a 10 unidades y ordenarlos por precio de mayor a menor.\n",
                "\n",
                "\\- Seleccionamos los campos ProductName y UnitsInStock de la tabla Products\n",
                "\n",
                "\\- Usando la instancia WHERE indicamos que los datos en donde el campo UnitsInStock sean menores a 10\n",
                "\n",
                "\\- Y finalmente ordenamos de manera descendiente en base a los datos del campo UnitsInStock"
            ],
            "metadata": {
                "azdata_cell_guid": "09ee79c5-aeba-4977-b78e-826cbef10926"
            },
            "attachments": {}
        },
        {
            "cell_type": "code",
            "source": [
                "SELECT ProductName, UnitsInStock\r\n",
                "FROM Products \r\n",
                "WHERE UnitsInStock < 10 \r\n",
                "ORDER BY UnitsInStock DESC"
            ],
            "metadata": {
                "azdata_cell_guid": "fac14f14-5c71-42d3-8599-6b6c5673239c",
                "language": "sql"
            },
            "outputs": [],
            "execution_count": null
        },
        {
            "cell_type": "markdown",
            "source": [
                "2\\. Mostrar el nombre de los clientes que sean de México, España o Argentina\n",
                "\n",
                "\\- Seleccionamos los campos ContactName y Country de la tabla Customers\n",
                "\n",
                "\\- Usando la Sentencia WHERE indicamosel filtro de algunos de los string de la lista <span style=\"color: rgb(255, 255, 255); font-family: Consolas, &quot;Courier New&quot;, monospace; font-size: 12px; white-space: pre;\">(</span><span style=\"font-family: Consolas, &quot;Courier New&quot;, monospace; font-size: 12px; white-space: pre; color: rgb(206, 145, 120);\">'Mexico'</span><span style=\"color: rgb(255, 255, 255); font-family: Consolas, &quot;Courier New&quot;, monospace; font-size: 12px; white-space: pre;\">, </span> <span style=\"font-family: Consolas, &quot;Courier New&quot;, monospace; font-size: 12px; white-space: pre; color: rgb(206, 145, 120);\">'Argentina'</span><span style=\"color: rgb(255, 255, 255); font-family: Consolas, &quot;Courier New&quot;, monospace; font-size: 12px; white-space: pre;\">, </span> <span style=\"font-family: Consolas, &quot;Courier New&quot;, monospace; font-size: 12px; white-space: pre; color: rgb(206, 145, 120);\">'Spain'</span><span style=\"color: rgb(255, 255, 255); font-family: Consolas, &quot;Courier New&quot;, monospace; font-size: 12px; white-space: pre;\">)</span>"
            ],
            "metadata": {
                "language": "sql",
                "azdata_cell_guid": "eb117e0f-b29b-4236-b966-8c90b251a257"
            },
            "attachments": {}
        },
        {
            "cell_type": "code",
            "source": [
                "SELECT ContactName, Country \r\n",
                "FROM Customers\r\n",
                "Where Country IN ('Mexico', 'Argentina', 'Spain')"
            ],
            "metadata": {
                "language": "sql",
                "azdata_cell_guid": "6d3fa2df-fe38-4e28-a7f6-8236d6eea12e"
            },
            "outputs": [],
            "execution_count": null
        },
        {
            "cell_type": "markdown",
            "source": [
                "3\\. Listar los pedidos hechos en 1997, mostrando el ID de pedido y la fecha.\n",
                "\n",
                "\\- Seleccionamos los campos OrderID y OrderDate de la tabla Orders\n",
                "\n",
                "\\- Usamos la instancia WHERE para poder Filtrar\n",
                "\n",
                "\\- El campo OrderDate, al tener tipos de datos DateTime, filtramos por YEAR\n",
                "\n",
                "\\- Indicando el tipo de dato YEAR en el campo de OrderDate, si el año de esos campos es igual a 1997"
            ],
            "metadata": {
                "language": "sql",
                "azdata_cell_guid": "b3081b0d-2fb3-4788-a497-bd2bd10065b0"
            },
            "attachments": {}
        },
        {
            "cell_type": "code",
            "source": [
                "SELECT OrderID, OrderDate FROM Orders\r\n",
                "WHERE YEAR(OrderDate) = 1997 "
            ],
            "metadata": {
                "language": "sql",
                "azdata_cell_guid": "c7d838d8-32cc-4fda-83b8-22a7c7e392e9"
            },
            "outputs": [],
            "execution_count": null
        },
        {
            "cell_type": "markdown",
            "source": [
                "4. Obtener la cantidad total de pedidos por cliente y mostrar solo aquellos con más de 20 pedidos.\n",
                "\n",
                "\\- Seleccionamos CustomerID, ContactName y la suma de Quantity en una nueva columna\n",
                "\n",
                "\\- Indicamos que nuestra primera tabla sera Customers puesto a tener el campo principal para poder hacer las respectivas uniones (CustomerID)\n",
                "\n",
                "\\- Combinamos datos de la tabla principal (Customers) con la tabla de (Orders) los cuales ambos contienen un campo \"CustomerID\"\n",
                "\n",
                "\\- Combinamos datos de la tabla de (Orders) junto a la tabla (Order Details) los cuales tienen por mismo campo \"OrderID\"\n",
                "\n",
                "\\- Ambas combinaciones de datos mediante INNER JOIN para obtener datos coincidentes en campos comunes\n",
                "\n",
                "\\- Se filtran los grupos clientes cuya sea mayor a 20 (para que no aparezcan ContactName repetidos y agruparlos sumando las cantidades por cada Cliente)\n",
                "\n",
                "\\- Finalmente solo ordenamos en base al orden de CustomerID, para compararlo a todos los clientes de la segunda consulta, y tener una referencia de cuantos clientes aparecen, y cuantos no"
            ],
            "metadata": {
                "language": "sql",
                "azdata_cell_guid": "f6f9100c-b599-4585-afb8-56cd9875fce7"
            },
            "attachments": {}
        },
        {
            "cell_type": "code",
            "source": [
                "SELECT c.CustomerID, c.ContactName, SUM(od.Quantity) AS TotalPedidos\r\n",
                "FROM Customers c \r\n",
                "INNER JOIN Orders ord ON ord.CustomerID = c.CustomerID\r\n",
                "INNER JOIN [Order Details] od ON od.OrderID = ord.OrderID\r\n",
                "GROUP BY c.CustomerID, c.ContactName\r\n",
                "HAVING SUM(od.Quantity) > 20\r\n",
                "ORDER By CustomerID \r\n",
                "\r\n",
                "SELECT CustomerID, ContactName From Customers"
            ],
            "metadata": {
                "language": "sql",
                "azdata_cell_guid": "68ae9a9d-20e4-4cda-8ea8-2d4509004279"
            },
            "outputs": [],
            "execution_count": null
        },
        {
            "cell_type": "markdown",
            "source": [
                "5. ```\n",
                "    Mostrar el nombre de cada producto junto al nombre de su categoría (usar INNER JOIN).\n",
                "    ```"
            ],
            "metadata": {
                "azdata_cell_guid": "539fbf69-ea85-473c-9064-ae7335e5c1da"
            },
            "attachments": {}
        },
        {
            "cell_type": "markdown",
            "source": [
                "Documentación:\n",
                "\n",
                "1\\. Usamos Northwind.dbo.Products y Northwind.dbo.Categories para evitar el error \"invalid object name\" si el contexto de BD no es Northwind. Alternativamente, se puede ejecutar \"USE Northwind;\" y luego usar dbo.Products.\n",
                "\n",
                "2\\. Asignamos alias costos a las tablas (p, c) para escribir mas claro y evitar ambiguedad (por ejemplo, CategoryID existe en ambas tablas)\n",
                "\n",
                "3\\. INNER JOIN: Trae solo las filas que coinciden en ambas tablas según la condición ON.\n",
                "\n",
                "4\\. p.ProductName = nombre del producto - c.CategoryName = nombre de la categoria\n",
                "\n",
                "5\\. Ordena el resultado primero por CategoryName y, dentro de cada cetegoria, por ProductName, es opcional pero mejora la lectura del reporte."
            ],
            "metadata": {
                "azdata_cell_guid": "a6c59455-2a36-42d1-a47b-a9003f3b0277"
            },
            "attachments": {}
        },
        {
            "cell_type": "code",
            "source": [
                "SELECT\r\n",
                "    p.ProductName,\r\n",
                "    c.CategoryName\r\n",
                "FROM Northwind.dbo.Products AS p\r\n",
                "INNER JOIN Northwind.dbo.Categories AS c\r\n",
                "    ON p.CategoryID = c.CategoryID\r\n",
                "ORDER BY c.CategoryName, p.ProductName;"
            ],
            "metadata": {
                "azdata_cell_guid": "ce7df096-4d01-4769-bf3f-c54781bd35ca",
                "language": "sql"
            },
            "outputs": [
                {
                    "output_type": "display_data",
                    "data": {
                        "text/html": "(77 rows affected)"
                    },
                    "metadata": {}
                },
                {
                    "output_type": "display_data",
                    "data": {
                        "text/html": "Total execution time: 00:00:00.010"
                    },
                    "metadata": {}
                },
                {
                    "output_type": "execute_result",
                    "metadata": {},
                    "execution_count": 1,
                    "data": {
                        "application/vnd.dataresource+json": {
                            "schema": {
                                "fields": [
                                    {
                                        "name": "ProductName"
                                    },
                                    {
                                        "name": "CategoryName"
                                    }
                                ]
                            },
                            "data": [
                                {
                                    "ProductName": "Chai",
                                    "CategoryName": "Beverages"
                                },
                                {
                                    "ProductName": "Chang",
                                    "CategoryName": "Beverages"
                                },
                                {
                                    "ProductName": "Chartreuse verte",
                                    "CategoryName": "Beverages"
                                },
                                {
                                    "ProductName": "Côte de Blaye",
                                    "CategoryName": "Beverages"
                                },
                                {
                                    "ProductName": "Guaraná Fantástica",
                                    "CategoryName": "Beverages"
                                },
                                {
                                    "ProductName": "Ipoh Coffee",
                                    "CategoryName": "Beverages"
                                },
                                {
                                    "ProductName": "Lakkalikööri",
                                    "CategoryName": "Beverages"
                                },
                                {
                                    "ProductName": "Laughing Lumberjack Lager",
                                    "CategoryName": "Beverages"
                                },
                                {
                                    "ProductName": "Outback Lager",
                                    "CategoryName": "Beverages"
                                },
                                {
                                    "ProductName": "Rhönbräu Klosterbier",
                                    "CategoryName": "Beverages"
                                },
                                {
                                    "ProductName": "Sasquatch Ale",
                                    "CategoryName": "Beverages"
                                },
                                {
                                    "ProductName": "Steeleye Stout",
                                    "CategoryName": "Beverages"
                                },
                                {
                                    "ProductName": "Aniseed Syrup",
                                    "CategoryName": "Condiments"
                                },
                                {
                                    "ProductName": "Chef Anton's Cajun Seasoning",
                                    "CategoryName": "Condiments"
                                },
                                {
                                    "ProductName": "Chef Anton's Gumbo Mix",
                                    "CategoryName": "Condiments"
                                },
                                {
                                    "ProductName": "Genen Shouyu",
                                    "CategoryName": "Condiments"
                                },
                                {
                                    "ProductName": "Grandma's Boysenberry Spread",
                                    "CategoryName": "Condiments"
                                },
                                {
                                    "ProductName": "Gula Malacca",
                                    "CategoryName": "Condiments"
                                },
                                {
                                    "ProductName": "Louisiana Fiery Hot Pepper Sauce",
                                    "CategoryName": "Condiments"
                                },
                                {
                                    "ProductName": "Louisiana Hot Spiced Okra",
                                    "CategoryName": "Condiments"
                                },
                                {
                                    "ProductName": "Northwoods Cranberry Sauce",
                                    "CategoryName": "Condiments"
                                },
                                {
                                    "ProductName": "Original Frankfurter grüne Soße",
                                    "CategoryName": "Condiments"
                                },
                                {
                                    "ProductName": "Sirop d'érable",
                                    "CategoryName": "Condiments"
                                },
                                {
                                    "ProductName": "Vegie-spread",
                                    "CategoryName": "Condiments"
                                },
                                {
                                    "ProductName": "Chocolade",
                                    "CategoryName": "Confections"
                                },
                                {
                                    "ProductName": "Gumbär Gummibärchen",
                                    "CategoryName": "Confections"
                                },
                                {
                                    "ProductName": "Maxilaku",
                                    "CategoryName": "Confections"
                                },
                                {
                                    "ProductName": "NuNuCa Nuß-Nougat-Creme",
                                    "CategoryName": "Confections"
                                },
                                {
                                    "ProductName": "Pavlova",
                                    "CategoryName": "Confections"
                                },
                                {
                                    "ProductName": "Schoggi Schokolade",
                                    "CategoryName": "Confections"
                                },
                                {
                                    "ProductName": "Scottish Longbreads",
                                    "CategoryName": "Confections"
                                },
                                {
                                    "ProductName": "Sir Rodney's Marmalade",
                                    "CategoryName": "Confections"
                                },
                                {
                                    "ProductName": "Sir Rodney's Scones",
                                    "CategoryName": "Confections"
                                },
                                {
                                    "ProductName": "Tarte au sucre",
                                    "CategoryName": "Confections"
                                },
                                {
                                    "ProductName": "Teatime Chocolate Biscuits",
                                    "CategoryName": "Confections"
                                },
                                {
                                    "ProductName": "Valkoinen suklaa",
                                    "CategoryName": "Confections"
                                },
                                {
                                    "ProductName": "Zaanse koeken",
                                    "CategoryName": "Confections"
                                },
                                {
                                    "ProductName": "Camembert Pierrot",
                                    "CategoryName": "Dairy Products"
                                },
                                {
                                    "ProductName": "Flotemysost",
                                    "CategoryName": "Dairy Products"
                                },
                                {
                                    "ProductName": "Geitost",
                                    "CategoryName": "Dairy Products"
                                },
                                {
                                    "ProductName": "Gorgonzola Telino",
                                    "CategoryName": "Dairy Products"
                                },
                                {
                                    "ProductName": "Gudbrandsdalsost",
                                    "CategoryName": "Dairy Products"
                                },
                                {
                                    "ProductName": "Mascarpone Fabioli",
                                    "CategoryName": "Dairy Products"
                                },
                                {
                                    "ProductName": "Mozzarella di Giovanni",
                                    "CategoryName": "Dairy Products"
                                },
                                {
                                    "ProductName": "Queso Cabrales",
                                    "CategoryName": "Dairy Products"
                                },
                                {
                                    "ProductName": "Queso Manchego La Pastora",
                                    "CategoryName": "Dairy Products"
                                },
                                {
                                    "ProductName": "Raclette Courdavault",
                                    "CategoryName": "Dairy Products"
                                },
                                {
                                    "ProductName": "Filo Mix",
                                    "CategoryName": "Grains/Cereals"
                                },
                                {
                                    "ProductName": "Gnocchi di nonna Alice",
                                    "CategoryName": "Grains/Cereals"
                                },
                                {
                                    "ProductName": "Gustaf's Knäckebröd",
                                    "CategoryName": "Grains/Cereals"
                                },
                                {
                                    "ProductName": "Ravioli Angelo",
                                    "CategoryName": "Grains/Cereals"
                                },
                                {
                                    "ProductName": "Singaporean Hokkien Fried Mee",
                                    "CategoryName": "Grains/Cereals"
                                },
                                {
                                    "ProductName": "Tunnbröd",
                                    "CategoryName": "Grains/Cereals"
                                },
                                {
                                    "ProductName": "Wimmers gute Semmelknödel",
                                    "CategoryName": "Grains/Cereals"
                                },
                                {
                                    "ProductName": "Alice Mutton",
                                    "CategoryName": "Meat/Poultry"
                                },
                                {
                                    "ProductName": "Mishi Kobe Niku",
                                    "CategoryName": "Meat/Poultry"
                                },
                                {
                                    "ProductName": "Pâté chinois",
                                    "CategoryName": "Meat/Poultry"
                                },
                                {
                                    "ProductName": "Perth Pasties",
                                    "CategoryName": "Meat/Poultry"
                                },
                                {
                                    "ProductName": "Thüringer Rostbratwurst",
                                    "CategoryName": "Meat/Poultry"
                                },
                                {
                                    "ProductName": "Tourtière",
                                    "CategoryName": "Meat/Poultry"
                                },
                                {
                                    "ProductName": "Longlife Tofu",
                                    "CategoryName": "Produce"
                                },
                                {
                                    "ProductName": "Manjimup Dried Apples",
                                    "CategoryName": "Produce"
                                },
                                {
                                    "ProductName": "Rössle Sauerkraut",
                                    "CategoryName": "Produce"
                                },
                                {
                                    "ProductName": "Tofu",
                                    "CategoryName": "Produce"
                                },
                                {
                                    "ProductName": "Uncle Bob's Organic Dried Pears",
                                    "CategoryName": "Produce"
                                },
                                {
                                    "ProductName": "Boston Crab Meat",
                                    "CategoryName": "Seafood"
                                },
                                {
                                    "ProductName": "Carnarvon Tigers",
                                    "CategoryName": "Seafood"
                                },
                                {
                                    "ProductName": "Escargots de Bourgogne",
                                    "CategoryName": "Seafood"
                                },
                                {
                                    "ProductName": "Gravad lax",
                                    "CategoryName": "Seafood"
                                },
                                {
                                    "ProductName": "Ikura",
                                    "CategoryName": "Seafood"
                                },
                                {
                                    "ProductName": "Inlagd Sill",
                                    "CategoryName": "Seafood"
                                },
                                {
                                    "ProductName": "Jack's New England Clam Chowder",
                                    "CategoryName": "Seafood"
                                },
                                {
                                    "ProductName": "Konbu",
                                    "CategoryName": "Seafood"
                                },
                                {
                                    "ProductName": "Nord-Ost Matjeshering",
                                    "CategoryName": "Seafood"
                                },
                                {
                                    "ProductName": "Röd Kaviar",
                                    "CategoryName": "Seafood"
                                },
                                {
                                    "ProductName": "Rogede sild",
                                    "CategoryName": "Seafood"
                                },
                                {
                                    "ProductName": "Spegesild",
                                    "CategoryName": "Seafood"
                                }
                            ]
                        },
                        "text/html": [
                            "<table>",
                            "<tr><th>ProductName</th><th>CategoryName</th></tr>",
                            "<tr><td>Chai</td><td>Beverages</td></tr>",
                            "<tr><td>Chang</td><td>Beverages</td></tr>",
                            "<tr><td>Chartreuse verte</td><td>Beverages</td></tr>",
                            "<tr><td>Côte de Blaye</td><td>Beverages</td></tr>",
                            "<tr><td>Guaraná Fantástica</td><td>Beverages</td></tr>",
                            "<tr><td>Ipoh Coffee</td><td>Beverages</td></tr>",
                            "<tr><td>Lakkalikööri</td><td>Beverages</td></tr>",
                            "<tr><td>Laughing Lumberjack Lager</td><td>Beverages</td></tr>",
                            "<tr><td>Outback Lager</td><td>Beverages</td></tr>",
                            "<tr><td>Rhönbräu Klosterbier</td><td>Beverages</td></tr>",
                            "<tr><td>Sasquatch Ale</td><td>Beverages</td></tr>",
                            "<tr><td>Steeleye Stout</td><td>Beverages</td></tr>",
                            "<tr><td>Aniseed Syrup</td><td>Condiments</td></tr>",
                            "<tr><td>Chef Anton&#39;s Cajun Seasoning</td><td>Condiments</td></tr>",
                            "<tr><td>Chef Anton&#39;s Gumbo Mix</td><td>Condiments</td></tr>",
                            "<tr><td>Genen Shouyu</td><td>Condiments</td></tr>",
                            "<tr><td>Grandma&#39;s Boysenberry Spread</td><td>Condiments</td></tr>",
                            "<tr><td>Gula Malacca</td><td>Condiments</td></tr>",
                            "<tr><td>Louisiana Fiery Hot Pepper Sauce</td><td>Condiments</td></tr>",
                            "<tr><td>Louisiana Hot Spiced Okra</td><td>Condiments</td></tr>",
                            "<tr><td>Northwoods Cranberry Sauce</td><td>Condiments</td></tr>",
                            "<tr><td>Original Frankfurter grüne Soße</td><td>Condiments</td></tr>",
                            "<tr><td>Sirop d&#39;érable</td><td>Condiments</td></tr>",
                            "<tr><td>Vegie-spread</td><td>Condiments</td></tr>",
                            "<tr><td>Chocolade</td><td>Confections</td></tr>",
                            "<tr><td>Gumbär Gummibärchen</td><td>Confections</td></tr>",
                            "<tr><td>Maxilaku</td><td>Confections</td></tr>",
                            "<tr><td>NuNuCa Nuß-Nougat-Creme</td><td>Confections</td></tr>",
                            "<tr><td>Pavlova</td><td>Confections</td></tr>",
                            "<tr><td>Schoggi Schokolade</td><td>Confections</td></tr>",
                            "<tr><td>Scottish Longbreads</td><td>Confections</td></tr>",
                            "<tr><td>Sir Rodney&#39;s Marmalade</td><td>Confections</td></tr>",
                            "<tr><td>Sir Rodney&#39;s Scones</td><td>Confections</td></tr>",
                            "<tr><td>Tarte au sucre</td><td>Confections</td></tr>",
                            "<tr><td>Teatime Chocolate Biscuits</td><td>Confections</td></tr>",
                            "<tr><td>Valkoinen suklaa</td><td>Confections</td></tr>",
                            "<tr><td>Zaanse koeken</td><td>Confections</td></tr>",
                            "<tr><td>Camembert Pierrot</td><td>Dairy Products</td></tr>",
                            "<tr><td>Flotemysost</td><td>Dairy Products</td></tr>",
                            "<tr><td>Geitost</td><td>Dairy Products</td></tr>",
                            "<tr><td>Gorgonzola Telino</td><td>Dairy Products</td></tr>",
                            "<tr><td>Gudbrandsdalsost</td><td>Dairy Products</td></tr>",
                            "<tr><td>Mascarpone Fabioli</td><td>Dairy Products</td></tr>",
                            "<tr><td>Mozzarella di Giovanni</td><td>Dairy Products</td></tr>",
                            "<tr><td>Queso Cabrales</td><td>Dairy Products</td></tr>",
                            "<tr><td>Queso Manchego La Pastora</td><td>Dairy Products</td></tr>",
                            "<tr><td>Raclette Courdavault</td><td>Dairy Products</td></tr>",
                            "<tr><td>Filo Mix</td><td>Grains/Cereals</td></tr>",
                            "<tr><td>Gnocchi di nonna Alice</td><td>Grains/Cereals</td></tr>",
                            "<tr><td>Gustaf&#39;s Knäckebröd</td><td>Grains/Cereals</td></tr>",
                            "<tr><td>Ravioli Angelo</td><td>Grains/Cereals</td></tr>",
                            "<tr><td>Singaporean Hokkien Fried Mee</td><td>Grains/Cereals</td></tr>",
                            "<tr><td>Tunnbröd</td><td>Grains/Cereals</td></tr>",
                            "<tr><td>Wimmers gute Semmelknödel</td><td>Grains/Cereals</td></tr>",
                            "<tr><td>Alice Mutton</td><td>Meat/Poultry</td></tr>",
                            "<tr><td>Mishi Kobe Niku</td><td>Meat/Poultry</td></tr>",
                            "<tr><td>Pâté chinois</td><td>Meat/Poultry</td></tr>",
                            "<tr><td>Perth Pasties</td><td>Meat/Poultry</td></tr>",
                            "<tr><td>Thüringer Rostbratwurst</td><td>Meat/Poultry</td></tr>",
                            "<tr><td>Tourtière</td><td>Meat/Poultry</td></tr>",
                            "<tr><td>Longlife Tofu</td><td>Produce</td></tr>",
                            "<tr><td>Manjimup Dried Apples</td><td>Produce</td></tr>",
                            "<tr><td>Rössle Sauerkraut</td><td>Produce</td></tr>",
                            "<tr><td>Tofu</td><td>Produce</td></tr>",
                            "<tr><td>Uncle Bob&#39;s Organic Dried Pears</td><td>Produce</td></tr>",
                            "<tr><td>Boston Crab Meat</td><td>Seafood</td></tr>",
                            "<tr><td>Carnarvon Tigers</td><td>Seafood</td></tr>",
                            "<tr><td>Escargots de Bourgogne</td><td>Seafood</td></tr>",
                            "<tr><td>Gravad lax</td><td>Seafood</td></tr>",
                            "<tr><td>Ikura</td><td>Seafood</td></tr>",
                            "<tr><td>Inlagd Sill</td><td>Seafood</td></tr>",
                            "<tr><td>Jack&#39;s New England Clam Chowder</td><td>Seafood</td></tr>",
                            "<tr><td>Konbu</td><td>Seafood</td></tr>",
                            "<tr><td>Nord-Ost Matjeshering</td><td>Seafood</td></tr>",
                            "<tr><td>Röd Kaviar</td><td>Seafood</td></tr>",
                            "<tr><td>Rogede sild</td><td>Seafood</td></tr>",
                            "<tr><td>Spegesild</td><td>Seafood</td></tr>",
                            "</table>"
                        ]
                    }
                }
            ],
            "execution_count": 1
        },
        {
            "cell_type": "markdown",
            "source": [
                "6. ```\n",
                "      Mostrar todos los empleados y, si tienen pedidos asignados, el número de pedidos (usar LEFT JOIN)\n",
                "    ```"
            ],
            "metadata": {
                "azdata_cell_guid": "99ccd3bc-3b91-42da-aaee-6e0758a27347"
            },
            "attachments": {}
        },
        {
            "cell_type": "markdown",
            "source": [
                "Documentación:  \n",
                "\n",
                "1\\. Tabla principal (Employees)\n",
                "\n",
                "Iniciamos con FROM Employees porque queremos que todos los empleados aparezcan en el resultado, tengan o no pedidos\n",
                "\n",
                "2\\. LEFT JOIN con Orders:\n",
                "\n",
                "LEFT JOIN Orders ON e.EmployeeID = o.EmployeeID asegura que: si el empleado tiene pedidos, se enlazan sus registros de Orders\n",
                "\n",
                "Si no tiene pedidos, aparece igual, pero con null en los campos de pedidos\n",
                "\n",
                "3\\. COUNT(o.OrderID)\n",
                "\n",
                "Cuenta el numero de pedidos de cada empleado\n",
                "\n",
                "Como COUNT no cuenta valores NULL, los empleados sin pedidos mostraran 0.\n",
                "\n",
                "4\\. GROUP BY:\n",
                "\n",
                "Agrupa la información por empleado (EmployeeID, FirstName, LastName) para que COUNT() funcione correctamente.\n",
                "\n",
                "5\\. ORDER BY NumeroPedidos DESC (opcional)\n",
                "\n",
                "Ordena la lista, mostrando primero a los empleados con mas pedidos"
            ],
            "metadata": {
                "azdata_cell_guid": "cb89ab38-75f2-48a8-9871-a6306dcf16e9"
            },
            "attachments": {}
        },
        {
            "cell_type": "code",
            "source": [
                "SELECT\r\n",
                "    e.EmployeeID,\r\n",
                "    e.FirstName,\r\n",
                "    e.LastName,\r\n",
                "    COUNT(o.OrderID) AS NumeroPedidos\r\n",
                "FROM Northwind.dbo.Employees AS e\r\n",
                "LEFT JOIN Northwind.dbo.Orders AS o\r\n",
                "    ON e.EmployeeID = o.EmployeeID\r\n",
                "GROUP BY e.EmployeeID, e.FirstName, e.LastName\r\n",
                "ORDER BY NumeroPedidos DESC;"
            ],
            "metadata": {
                "azdata_cell_guid": "eb74ccba-9d0f-4993-b0c2-6864125b90d6",
                "language": "sql"
            },
            "outputs": [
                {
                    "output_type": "display_data",
                    "data": {
                        "text/html": "(9 rows affected)"
                    },
                    "metadata": {}
                },
                {
                    "output_type": "display_data",
                    "data": {
                        "text/html": "Total execution time: 00:00:00.006"
                    },
                    "metadata": {}
                },
                {
                    "output_type": "execute_result",
                    "metadata": {},
                    "execution_count": 3,
                    "data": {
                        "application/vnd.dataresource+json": {
                            "schema": {
                                "fields": [
                                    {
                                        "name": "EmployeeID"
                                    },
                                    {
                                        "name": "FirstName"
                                    },
                                    {
                                        "name": "LastName"
                                    },
                                    {
                                        "name": "NumeroPedidos"
                                    }
                                ]
                            },
                            "data": [
                                {
                                    "EmployeeID": "4",
                                    "FirstName": "Margaret",
                                    "LastName": "Peacock",
                                    "NumeroPedidos": "156"
                                },
                                {
                                    "EmployeeID": "3",
                                    "FirstName": "Janet",
                                    "LastName": "Leverling",
                                    "NumeroPedidos": "127"
                                },
                                {
                                    "EmployeeID": "1",
                                    "FirstName": "Nancy",
                                    "LastName": "Davolio",
                                    "NumeroPedidos": "123"
                                },
                                {
                                    "EmployeeID": "8",
                                    "FirstName": "Laura",
                                    "LastName": "Callahan",
                                    "NumeroPedidos": "104"
                                },
                                {
                                    "EmployeeID": "2",
                                    "FirstName": "Andrew",
                                    "LastName": "Fuller",
                                    "NumeroPedidos": "96"
                                },
                                {
                                    "EmployeeID": "7",
                                    "FirstName": "Robert",
                                    "LastName": "King",
                                    "NumeroPedidos": "72"
                                },
                                {
                                    "EmployeeID": "6",
                                    "FirstName": "Michael",
                                    "LastName": "Suyama",
                                    "NumeroPedidos": "67"
                                },
                                {
                                    "EmployeeID": "9",
                                    "FirstName": "Anne",
                                    "LastName": "Dodsworth",
                                    "NumeroPedidos": "43"
                                },
                                {
                                    "EmployeeID": "5",
                                    "FirstName": "Steven",
                                    "LastName": "Buchanan",
                                    "NumeroPedidos": "42"
                                }
                            ]
                        },
                        "text/html": [
                            "<table>",
                            "<tr><th>EmployeeID</th><th>FirstName</th><th>LastName</th><th>NumeroPedidos</th></tr>",
                            "<tr><td>4</td><td>Margaret</td><td>Peacock</td><td>156</td></tr>",
                            "<tr><td>3</td><td>Janet</td><td>Leverling</td><td>127</td></tr>",
                            "<tr><td>1</td><td>Nancy</td><td>Davolio</td><td>123</td></tr>",
                            "<tr><td>8</td><td>Laura</td><td>Callahan</td><td>104</td></tr>",
                            "<tr><td>2</td><td>Andrew</td><td>Fuller</td><td>96</td></tr>",
                            "<tr><td>7</td><td>Robert</td><td>King</td><td>72</td></tr>",
                            "<tr><td>6</td><td>Michael</td><td>Suyama</td><td>67</td></tr>",
                            "<tr><td>9</td><td>Anne</td><td>Dodsworth</td><td>43</td></tr>",
                            "<tr><td>5</td><td>Steven</td><td>Buchanan</td><td>42</td></tr>",
                            "</table>"
                        ]
                    }
                }
            ],
            "execution_count": 3
        },
        {
            "cell_type": "markdown",
            "source": [
                "7. ```\n",
                "    Mostrar el nombre y precio de los productos más caros de cada categoría.\n",
                "    ```"
            ],
            "metadata": {
                "azdata_cell_guid": "771cd579-5716-44ce-8fbc-883b9c89624a"
            },
            "attachments": {}
        },
        {
            "cell_type": "markdown",
            "source": [
                "Documentación: \n",
                "\n",
                "Unión de tablas: Products se une con Categories por CategoryID para poder mostrar el nombre de la categoria junto con los campos del producto.\n",
                "\n",
                "Calculo del maximo por categoria:\n",
                "\n",
                "en la parte donde usamos WHERE, la subconsulta devuelve el precio maximo solo para la misma categoria de la fila externa p.\n",
                "\n",
                "Filtrado al maximo:\n",
                "\n",
                "WHERE p.UnitPrice = (subconsulta) hace que solo pasen los productos cuyo UnitPrice coincide con ese maximo: Si hay empate, todo apareceran\n",
                "\n",
                "Orden: ORDER BY c.CategoryName, p.ProductName organiza el resultado primero por categoría y luego por producto."
            ],
            "metadata": {
                "azdata_cell_guid": "24abb298-0903-46f7-b1fd-0e70382fa07a"
            },
            "attachments": {}
        },
        {
            "cell_type": "code",
            "source": [
                "SELECT\r\n",
                "    c.CategoryName,\r\n",
                "    p.ProductName,\r\n",
                "    p.UnitPrice\r\n",
                "FROM Northwind.dbo.Products AS p\r\n",
                "INNER JOIN Northwind.dbo.Categories AS c\r\n",
                "    ON p.CategoryID = c.CategoryID\r\n",
                "WHERE p.UnitPrice = (\r\n",
                "    SELECT MAX(p2.UnitPrice)\r\n",
                "    FROM Northwind.dbo.Products AS p2\r\n",
                "    WHERE p2.CategoryID = p.CategoryID\r\n",
                ")\r\n",
                "ORDER BY c.CategoryName;"
            ],
            "metadata": {
                "azdata_cell_guid": "23914b4c-1bd6-4008-bf31-141325378685",
                "language": "sql"
            },
            "outputs": [
                {
                    "output_type": "display_data",
                    "data": {
                        "text/html": "(8 rows affected)"
                    },
                    "metadata": {}
                },
                {
                    "output_type": "display_data",
                    "data": {
                        "text/html": "Total execution time: 00:00:00.011"
                    },
                    "metadata": {}
                },
                {
                    "output_type": "execute_result",
                    "metadata": {},
                    "execution_count": 5,
                    "data": {
                        "application/vnd.dataresource+json": {
                            "schema": {
                                "fields": [
                                    {
                                        "name": "CategoryName"
                                    },
                                    {
                                        "name": "ProductName"
                                    },
                                    {
                                        "name": "UnitPrice"
                                    }
                                ]
                            },
                            "data": [
                                {
                                    "CategoryName": "Beverages",
                                    "ProductName": "Côte de Blaye",
                                    "UnitPrice": "263.50"
                                },
                                {
                                    "CategoryName": "Condiments",
                                    "ProductName": "Vegie-spread",
                                    "UnitPrice": "43.90"
                                },
                                {
                                    "CategoryName": "Confections",
                                    "ProductName": "Sir Rodney's Marmalade",
                                    "UnitPrice": "81.00"
                                },
                                {
                                    "CategoryName": "Dairy Products",
                                    "ProductName": "Raclette Courdavault",
                                    "UnitPrice": "55.00"
                                },
                                {
                                    "CategoryName": "Grains/Cereals",
                                    "ProductName": "Gnocchi di nonna Alice",
                                    "UnitPrice": "38.00"
                                },
                                {
                                    "CategoryName": "Meat/Poultry",
                                    "ProductName": "Thüringer Rostbratwurst",
                                    "UnitPrice": "123.79"
                                },
                                {
                                    "CategoryName": "Produce",
                                    "ProductName": "Manjimup Dried Apples",
                                    "UnitPrice": "53.00"
                                },
                                {
                                    "CategoryName": "Seafood",
                                    "ProductName": "Carnarvon Tigers",
                                    "UnitPrice": "62.50"
                                }
                            ]
                        },
                        "text/html": [
                            "<table>",
                            "<tr><th>CategoryName</th><th>ProductName</th><th>UnitPrice</th></tr>",
                            "<tr><td>Beverages</td><td>Côte de Blaye</td><td>263.50</td></tr>",
                            "<tr><td>Condiments</td><td>Vegie-spread</td><td>43.90</td></tr>",
                            "<tr><td>Confections</td><td>Sir Rodney&#39;s Marmalade</td><td>81.00</td></tr>",
                            "<tr><td>Dairy Products</td><td>Raclette Courdavault</td><td>55.00</td></tr>",
                            "<tr><td>Grains/Cereals</td><td>Gnocchi di nonna Alice</td><td>38.00</td></tr>",
                            "<tr><td>Meat/Poultry</td><td>Thüringer Rostbratwurst</td><td>123.79</td></tr>",
                            "<tr><td>Produce</td><td>Manjimup Dried Apples</td><td>53.00</td></tr>",
                            "<tr><td>Seafood</td><td>Carnarvon Tigers</td><td>62.50</td></tr>",
                            "</table>"
                        ]
                    }
                }
            ],
            "execution_count": 5
        },
        {
            "cell_type": "markdown",
            "source": [
                "8. \n",
                "\n",
                "1. ```\n",
                "    Mostrar el nombre de los clientes y la fecha de sus pedidos realizados entre el 1 de enero de 1997 y el 31 de diciembre de 1997.\n",
                "    ```"
            ],
            "metadata": {
                "language": "sql",
                "azdata_cell_guid": "49c20ef9-c578-4abd-b6ed-36445cc0d04f"
            },
            "attachments": {}
        },
        {
            "cell_type": "code",
            "source": [
                "SELECT\r\n",
                "    c.CompanyName AS CustomerName,\r\n",
                "    o.OrderDate\r\n",
                "FROM Northwind.dbo.Orders AS o\r\n",
                "JOIN Northwind.dbo.Customers AS c\r\n",
                "    ON c.CustomerID = o.CustomerID\r\n",
                "WHERE o.OrderDate >+ '1997-01-01'\r\n",
                "AND o.OrderDate < '1998-01-01'\r\n",
                "ORDER BY c.CompanyName, o.OrderDate;"
            ],
            "metadata": {
                "language": "sql",
                "azdata_cell_guid": "95b57973-d3d9-41b3-8d0a-992067bc956e"
            },
            "outputs": [
                {
                    "output_type": "display_data",
                    "data": {
                        "text/html": "(406 rows affected)"
                    },
                    "metadata": {}
                },
                {
                    "output_type": "display_data",
                    "data": {
                        "text/html": "Total execution time: 00:00:00.032"
                    },
                    "metadata": {}
                },
                {
                    "output_type": "execute_result",
                    "metadata": {},
                    "execution_count": 6,
                    "data": {
                        "application/vnd.dataresource+json": {
                            "schema": {
                                "fields": [
                                    {
                                        "name": "CustomerName"
                                    },
                                    {
                                        "name": "OrderDate"
                                    }
                                ]
                            },
                            "data": [
                                {
                                    "CustomerName": "Alfreds Futterkiste",
                                    "OrderDate": "1997-08-25 00:00:00.000"
                                },
                                {
                                    "CustomerName": "Alfreds Futterkiste",
                                    "OrderDate": "1997-10-03 00:00:00.000"
                                },
                                {
                                    "CustomerName": "Alfreds Futterkiste",
                                    "OrderDate": "1997-10-13 00:00:00.000"
                                },
                                {
                                    "CustomerName": "Ana Trujillo Emparedados y helados",
                                    "OrderDate": "1997-08-08 00:00:00.000"
                                },
                                {
                                    "CustomerName": "Ana Trujillo Emparedados y helados",
                                    "OrderDate": "1997-11-28 00:00:00.000"
                                },
                                {
                                    "CustomerName": "Antonio Moreno Taquería",
                                    "OrderDate": "1997-04-15 00:00:00.000"
                                },
                                {
                                    "CustomerName": "Antonio Moreno Taquería",
                                    "OrderDate": "1997-05-13 00:00:00.000"
                                },
                                {
                                    "CustomerName": "Antonio Moreno Taquería",
                                    "OrderDate": "1997-06-19 00:00:00.000"
                                },
                                {
                                    "CustomerName": "Antonio Moreno Taquería",
                                    "OrderDate": "1997-09-22 00:00:00.000"
                                },
                                {
                                    "CustomerName": "Antonio Moreno Taquería",
                                    "OrderDate": "1997-09-25 00:00:00.000"
                                },
                                {
                                    "CustomerName": "Around the Horn",
                                    "OrderDate": "1997-02-21 00:00:00.000"
                                },
                                {
                                    "CustomerName": "Around the Horn",
                                    "OrderDate": "1997-06-04 00:00:00.000"
                                },
                                {
                                    "CustomerName": "Around the Horn",
                                    "OrderDate": "1997-10-16 00:00:00.000"
                                },
                                {
                                    "CustomerName": "Around the Horn",
                                    "OrderDate": "1997-11-14 00:00:00.000"
                                },
                                {
                                    "CustomerName": "Around the Horn",
                                    "OrderDate": "1997-11-17 00:00:00.000"
                                },
                                {
                                    "CustomerName": "Around the Horn",
                                    "OrderDate": "1997-12-08 00:00:00.000"
                                },
                                {
                                    "CustomerName": "Around the Horn",
                                    "OrderDate": "1997-12-24 00:00:00.000"
                                },
                                {
                                    "CustomerName": "Berglunds snabbköp",
                                    "OrderDate": "1997-02-12 00:00:00.000"
                                },
                                {
                                    "CustomerName": "Berglunds snabbköp",
                                    "OrderDate": "1997-02-13 00:00:00.000"
                                },
                                {
                                    "CustomerName": "Berglunds snabbköp",
                                    "OrderDate": "1997-05-01 00:00:00.000"
                                },
                                {
                                    "CustomerName": "Berglunds snabbköp",
                                    "OrderDate": "1997-06-18 00:00:00.000"
                                },
                                {
                                    "CustomerName": "Berglunds snabbköp",
                                    "OrderDate": "1997-08-11 00:00:00.000"
                                },
                                {
                                    "CustomerName": "Berglunds snabbköp",
                                    "OrderDate": "1997-09-02 00:00:00.000"
                                },
                                {
                                    "CustomerName": "Berglunds snabbköp",
                                    "OrderDate": "1997-09-17 00:00:00.000"
                                },
                                {
                                    "CustomerName": "Berglunds snabbköp",
                                    "OrderDate": "1997-10-01 00:00:00.000"
                                },
                                {
                                    "CustomerName": "Berglunds snabbköp",
                                    "OrderDate": "1997-11-07 00:00:00.000"
                                },
                                {
                                    "CustomerName": "Berglunds snabbköp",
                                    "OrderDate": "1997-12-16 00:00:00.000"
                                },
                                {
                                    "CustomerName": "Blauer See Delikatessen",
                                    "OrderDate": "1997-04-09 00:00:00.000"
                                },
                                {
                                    "CustomerName": "Blauer See Delikatessen",
                                    "OrderDate": "1997-04-17 00:00:00.000"
                                },
                                {
                                    "CustomerName": "Blauer See Delikatessen",
                                    "OrderDate": "1997-06-27 00:00:00.000"
                                },
                                {
                                    "CustomerName": "Blauer See Delikatessen",
                                    "OrderDate": "1997-07-29 00:00:00.000"
                                },
                                {
                                    "CustomerName": "Blondesddsl père et fils",
                                    "OrderDate": "1997-02-05 00:00:00.000"
                                },
                                {
                                    "CustomerName": "Blondesddsl père et fils",
                                    "OrderDate": "1997-02-18 00:00:00.000"
                                },
                                {
                                    "CustomerName": "Blondesddsl père et fils",
                                    "OrderDate": "1997-06-05 00:00:00.000"
                                },
                                {
                                    "CustomerName": "Blondesddsl père et fils",
                                    "OrderDate": "1997-06-12 00:00:00.000"
                                },
                                {
                                    "CustomerName": "Blondesddsl père et fils",
                                    "OrderDate": "1997-06-30 00:00:00.000"
                                },
                                {
                                    "CustomerName": "Blondesddsl père et fils",
                                    "OrderDate": "1997-08-12 00:00:00.000"
                                },
                                {
                                    "CustomerName": "Blondesddsl père et fils",
                                    "OrderDate": "1997-09-23 00:00:00.000"
                                },
                                {
                                    "CustomerName": "Bólido Comidas preparadas",
                                    "OrderDate": "1997-12-29 00:00:00.000"
                                },
                                {
                                    "CustomerName": "Bon app'",
                                    "OrderDate": "1997-03-11 00:00:00.000"
                                },
                                {
                                    "CustomerName": "Bon app'",
                                    "OrderDate": "1997-04-18 00:00:00.000"
                                },
                                {
                                    "CustomerName": "Bon app'",
                                    "OrderDate": "1997-05-02 00:00:00.000"
                                },
                                {
                                    "CustomerName": "Bon app'",
                                    "OrderDate": "1997-09-10 00:00:00.000"
                                },
                                {
                                    "CustomerName": "Bon app'",
                                    "OrderDate": "1997-10-23 00:00:00.000"
                                },
                                {
                                    "CustomerName": "Bon app'",
                                    "OrderDate": "1997-11-05 00:00:00.000"
                                },
                                {
                                    "CustomerName": "Bon app'",
                                    "OrderDate": "1997-11-06 00:00:00.000"
                                },
                                {
                                    "CustomerName": "Bon app'",
                                    "OrderDate": "1997-11-26 00:00:00.000"
                                },
                                {
                                    "CustomerName": "Bottom-Dollar Markets",
                                    "OrderDate": "1997-01-10 00:00:00.000"
                                },
                                {
                                    "CustomerName": "Bottom-Dollar Markets",
                                    "OrderDate": "1997-01-10 00:00:00.000"
                                },
                                {
                                    "CustomerName": "Bottom-Dollar Markets",
                                    "OrderDate": "1997-01-30 00:00:00.000"
                                },
                                {
                                    "CustomerName": "Bottom-Dollar Markets",
                                    "OrderDate": "1997-04-01 00:00:00.000"
                                },
                                {
                                    "CustomerName": "Bottom-Dollar Markets",
                                    "OrderDate": "1997-11-14 00:00:00.000"
                                },
                                {
                                    "CustomerName": "B's Beverages",
                                    "OrderDate": "1997-03-11 00:00:00.000"
                                },
                                {
                                    "CustomerName": "B's Beverages",
                                    "OrderDate": "1997-03-24 00:00:00.000"
                                },
                                {
                                    "CustomerName": "B's Beverages",
                                    "OrderDate": "1997-05-15 00:00:00.000"
                                },
                                {
                                    "CustomerName": "B's Beverages",
                                    "OrderDate": "1997-05-16 00:00:00.000"
                                },
                                {
                                    "CustomerName": "B's Beverages",
                                    "OrderDate": "1997-06-24 00:00:00.000"
                                },
                                {
                                    "CustomerName": "B's Beverages",
                                    "OrderDate": "1997-07-15 00:00:00.000"
                                },
                                {
                                    "CustomerName": "Cactus Comidas para llevar",
                                    "OrderDate": "1997-04-29 00:00:00.000"
                                },
                                {
                                    "CustomerName": "Cactus Comidas para llevar",
                                    "OrderDate": "1997-12-17 00:00:00.000"
                                },
                                {
                                    "CustomerName": "Chop-suey Chinese",
                                    "OrderDate": "1997-04-28 00:00:00.000"
                                },
                                {
                                    "CustomerName": "Chop-suey Chinese",
                                    "OrderDate": "1997-11-06 00:00:00.000"
                                },
                                {
                                    "CustomerName": "Chop-suey Chinese",
                                    "OrderDate": "1997-11-19 00:00:00.000"
                                },
                                {
                                    "CustomerName": "Comércio Mineiro",
                                    "OrderDate": "1997-03-06 00:00:00.000"
                                },
                                {
                                    "CustomerName": "Comércio Mineiro",
                                    "OrderDate": "1997-04-02 00:00:00.000"
                                },
                                {
                                    "CustomerName": "Consolidated Holdings",
                                    "OrderDate": "1997-02-04 00:00:00.000"
                                },
                                {
                                    "CustomerName": "Consolidated Holdings",
                                    "OrderDate": "1997-03-03 00:00:00.000"
                                },
                                {
                                    "CustomerName": "Die Wandernde Kuh",
                                    "OrderDate": "1997-04-22 00:00:00.000"
                                },
                                {
                                    "CustomerName": "Die Wandernde Kuh",
                                    "OrderDate": "1997-08-14 00:00:00.000"
                                },
                                {
                                    "CustomerName": "Die Wandernde Kuh",
                                    "OrderDate": "1997-08-21 00:00:00.000"
                                },
                                {
                                    "CustomerName": "Die Wandernde Kuh",
                                    "OrderDate": "1997-09-01 00:00:00.000"
                                },
                                {
                                    "CustomerName": "Die Wandernde Kuh",
                                    "OrderDate": "1997-09-15 00:00:00.000"
                                },
                                {
                                    "CustomerName": "Drachenblut Delikatessen",
                                    "OrderDate": "1997-12-25 00:00:00.000"
                                },
                                {
                                    "CustomerName": "Du monde entier",
                                    "OrderDate": "1997-07-24 00:00:00.000"
                                },
                                {
                                    "CustomerName": "Du monde entier",
                                    "OrderDate": "1997-09-26 00:00:00.000"
                                },
                                {
                                    "CustomerName": "Eastern Connection",
                                    "OrderDate": "1997-05-09 00:00:00.000"
                                },
                                {
                                    "CustomerName": "Eastern Connection",
                                    "OrderDate": "1997-11-03 00:00:00.000"
                                },
                                {
                                    "CustomerName": "Ernst Handel",
                                    "OrderDate": "1997-01-02 00:00:00.000"
                                },
                                {
                                    "CustomerName": "Ernst Handel",
                                    "OrderDate": "1997-01-03 00:00:00.000"
                                },
                                {
                                    "CustomerName": "Ernst Handel",
                                    "OrderDate": "1997-01-30 00:00:00.000"
                                },
                                {
                                    "CustomerName": "Ernst Handel",
                                    "OrderDate": "1997-02-11 00:00:00.000"
                                },
                                {
                                    "CustomerName": "Ernst Handel",
                                    "OrderDate": "1997-04-22 00:00:00.000"
                                },
                                {
                                    "CustomerName": "Ernst Handel",
                                    "OrderDate": "1997-06-17 00:00:00.000"
                                },
                                {
                                    "CustomerName": "Ernst Handel",
                                    "OrderDate": "1997-07-10 00:00:00.000"
                                },
                                {
                                    "CustomerName": "Ernst Handel",
                                    "OrderDate": "1997-08-15 00:00:00.000"
                                },
                                {
                                    "CustomerName": "Ernst Handel",
                                    "OrderDate": "1997-09-12 00:00:00.000"
                                },
                                {
                                    "CustomerName": "Ernst Handel",
                                    "OrderDate": "1997-10-09 00:00:00.000"
                                },
                                {
                                    "CustomerName": "Ernst Handel",
                                    "OrderDate": "1997-12-03 00:00:00.000"
                                },
                                {
                                    "CustomerName": "Ernst Handel",
                                    "OrderDate": "1997-12-10 00:00:00.000"
                                },
                                {
                                    "CustomerName": "Ernst Handel",
                                    "OrderDate": "1997-12-11 00:00:00.000"
                                },
                                {
                                    "CustomerName": "Ernst Handel",
                                    "OrderDate": "1997-12-15 00:00:00.000"
                                },
                                {
                                    "CustomerName": "Ernst Handel",
                                    "OrderDate": "1997-12-24 00:00:00.000"
                                },
                                {
                                    "CustomerName": "Familia Arquibaldo",
                                    "OrderDate": "1997-01-14 00:00:00.000"
                                },
                                {
                                    "CustomerName": "Familia Arquibaldo",
                                    "OrderDate": "1997-04-21 00:00:00.000"
                                },
                                {
                                    "CustomerName": "Familia Arquibaldo",
                                    "OrderDate": "1997-06-26 00:00:00.000"
                                },
                                {
                                    "CustomerName": "Familia Arquibaldo",
                                    "OrderDate": "1997-08-29 00:00:00.000"
                                },
                                {
                                    "CustomerName": "Familia Arquibaldo",
                                    "OrderDate": "1997-10-31 00:00:00.000"
                                },
                                {
                                    "CustomerName": "Folies gourmandes",
                                    "OrderDate": "1997-01-08 00:00:00.000"
                                },
                                {
                                    "CustomerName": "Folies gourmandes",
                                    "OrderDate": "1997-03-20 00:00:00.000"
                                },
                                {
                                    "CustomerName": "Folies gourmandes",
                                    "OrderDate": "1997-08-15 00:00:00.000"
                                },
                                {
                                    "CustomerName": "Folies gourmandes",
                                    "OrderDate": "1997-12-03 00:00:00.000"
                                },
                                {
                                    "CustomerName": "Folies gourmandes",
                                    "OrderDate": "1997-12-22 00:00:00.000"
                                },
                                {
                                    "CustomerName": "Folk och fä HB",
                                    "OrderDate": "1997-02-03 00:00:00.000"
                                },
                                {
                                    "CustomerName": "Folk och fä HB",
                                    "OrderDate": "1997-02-28 00:00:00.000"
                                },
                                {
                                    "CustomerName": "Folk och fä HB",
                                    "OrderDate": "1997-05-12 00:00:00.000"
                                },
                                {
                                    "CustomerName": "Folk och fä HB",
                                    "OrderDate": "1997-06-06 00:00:00.000"
                                },
                                {
                                    "CustomerName": "Folk och fä HB",
                                    "OrderDate": "1997-10-14 00:00:00.000"
                                },
                                {
                                    "CustomerName": "Folk och fä HB",
                                    "OrderDate": "1997-12-02 00:00:00.000"
                                },
                                {
                                    "CustomerName": "Folk och fä HB",
                                    "OrderDate": "1997-12-11 00:00:00.000"
                                },
                                {
                                    "CustomerName": "France restauration",
                                    "OrderDate": "1997-09-17 00:00:00.000"
                                },
                                {
                                    "CustomerName": "Franchi S.p.A.",
                                    "OrderDate": "1997-01-22 00:00:00.000"
                                },
                                {
                                    "CustomerName": "Franchi S.p.A.",
                                    "OrderDate": "1997-10-20 00:00:00.000"
                                },
                                {
                                    "CustomerName": "Franchi S.p.A.",
                                    "OrderDate": "1997-11-25 00:00:00.000"
                                },
                                {
                                    "CustomerName": "Franchi S.p.A.",
                                    "OrderDate": "1997-12-31 00:00:00.000"
                                },
                                {
                                    "CustomerName": "Frankenversand",
                                    "OrderDate": "1997-03-27 00:00:00.000"
                                },
                                {
                                    "CustomerName": "Frankenversand",
                                    "OrderDate": "1997-06-06 00:00:00.000"
                                },
                                {
                                    "CustomerName": "Frankenversand",
                                    "OrderDate": "1997-08-07 00:00:00.000"
                                },
                                {
                                    "CustomerName": "Frankenversand",
                                    "OrderDate": "1997-09-02 00:00:00.000"
                                },
                                {
                                    "CustomerName": "Frankenversand",
                                    "OrderDate": "1997-09-16 00:00:00.000"
                                },
                                {
                                    "CustomerName": "Frankenversand",
                                    "OrderDate": "1997-09-19 00:00:00.000"
                                },
                                {
                                    "CustomerName": "Frankenversand",
                                    "OrderDate": "1997-10-24 00:00:00.000"
                                },
                                {
                                    "CustomerName": "Frankenversand",
                                    "OrderDate": "1997-12-23 00:00:00.000"
                                },
                                {
                                    "CustomerName": "Furia Bacalhau e Frutos do Mar",
                                    "OrderDate": "1997-03-04 00:00:00.000"
                                },
                                {
                                    "CustomerName": "Furia Bacalhau e Frutos do Mar",
                                    "OrderDate": "1997-03-31 00:00:00.000"
                                },
                                {
                                    "CustomerName": "Furia Bacalhau e Frutos do Mar",
                                    "OrderDate": "1997-05-28 00:00:00.000"
                                },
                                {
                                    "CustomerName": "Furia Bacalhau e Frutos do Mar",
                                    "OrderDate": "1997-07-18 00:00:00.000"
                                },
                                {
                                    "CustomerName": "Furia Bacalhau e Frutos do Mar",
                                    "OrderDate": "1997-09-10 00:00:00.000"
                                },
                                {
                                    "CustomerName": "Galería del gastrónomo",
                                    "OrderDate": "1997-01-27 00:00:00.000"
                                },
                                {
                                    "CustomerName": "Galería del gastrónomo",
                                    "OrderDate": "1997-06-13 00:00:00.000"
                                },
                                {
                                    "CustomerName": "Godos Cocina Típica",
                                    "OrderDate": "1997-05-28 00:00:00.000"
                                },
                                {
                                    "CustomerName": "Godos Cocina Típica",
                                    "OrderDate": "1997-08-12 00:00:00.000"
                                },
                                {
                                    "CustomerName": "Gourmet Lanchonetes",
                                    "OrderDate": "1997-01-23 00:00:00.000"
                                },
                                {
                                    "CustomerName": "Gourmet Lanchonetes",
                                    "OrderDate": "1997-09-01 00:00:00.000"
                                },
                                {
                                    "CustomerName": "Gourmet Lanchonetes",
                                    "OrderDate": "1997-09-29 00:00:00.000"
                                },
                                {
                                    "CustomerName": "Gourmet Lanchonetes",
                                    "OrderDate": "1997-10-17 00:00:00.000"
                                },
                                {
                                    "CustomerName": "Gourmet Lanchonetes",
                                    "OrderDate": "1997-11-07 00:00:00.000"
                                },
                                {
                                    "CustomerName": "Gourmet Lanchonetes",
                                    "OrderDate": "1997-12-15 00:00:00.000"
                                },
                                {
                                    "CustomerName": "Gourmet Lanchonetes",
                                    "OrderDate": "1997-12-22 00:00:00.000"
                                },
                                {
                                    "CustomerName": "Great Lakes Food Market",
                                    "OrderDate": "1997-05-06 00:00:00.000"
                                },
                                {
                                    "CustomerName": "Great Lakes Food Market",
                                    "OrderDate": "1997-07-04 00:00:00.000"
                                },
                                {
                                    "CustomerName": "Great Lakes Food Market",
                                    "OrderDate": "1997-07-31 00:00:00.000"
                                },
                                {
                                    "CustomerName": "Great Lakes Food Market",
                                    "OrderDate": "1997-07-31 00:00:00.000"
                                },
                                {
                                    "CustomerName": "Great Lakes Food Market",
                                    "OrderDate": "1997-09-04 00:00:00.000"
                                },
                                {
                                    "CustomerName": "Great Lakes Food Market",
                                    "OrderDate": "1997-09-25 00:00:00.000"
                                },
                                {
                                    "CustomerName": "GROSELLA-Restaurante",
                                    "OrderDate": "1997-12-18 00:00:00.000"
                                },
                                {
                                    "CustomerName": "Hanari Carnes",
                                    "OrderDate": "1997-05-19 00:00:00.000"
                                },
                                {
                                    "CustomerName": "Hanari Carnes",
                                    "OrderDate": "1997-08-26 00:00:00.000"
                                },
                                {
                                    "CustomerName": "Hanari Carnes",
                                    "OrderDate": "1997-10-02 00:00:00.000"
                                },
                                {
                                    "CustomerName": "Hanari Carnes",
                                    "OrderDate": "1997-12-09 00:00:00.000"
                                },
                                {
                                    "CustomerName": "Hanari Carnes",
                                    "OrderDate": "1997-12-18 00:00:00.000"
                                },
                                {
                                    "CustomerName": "HILARION-Abastos",
                                    "OrderDate": "1997-03-17 00:00:00.000"
                                },
                                {
                                    "CustomerName": "HILARION-Abastos",
                                    "OrderDate": "1997-03-26 00:00:00.000"
                                },
                                {
                                    "CustomerName": "HILARION-Abastos",
                                    "OrderDate": "1997-03-31 00:00:00.000"
                                },
                                {
                                    "CustomerName": "HILARION-Abastos",
                                    "OrderDate": "1997-04-07 00:00:00.000"
                                },
                                {
                                    "CustomerName": "HILARION-Abastos",
                                    "OrderDate": "1997-05-29 00:00:00.000"
                                },
                                {
                                    "CustomerName": "HILARION-Abastos",
                                    "OrderDate": "1997-07-16 00:00:00.000"
                                },
                                {
                                    "CustomerName": "HILARION-Abastos",
                                    "OrderDate": "1997-07-29 00:00:00.000"
                                },
                                {
                                    "CustomerName": "HILARION-Abastos",
                                    "OrderDate": "1997-08-22 00:00:00.000"
                                },
                                {
                                    "CustomerName": "HILARION-Abastos",
                                    "OrderDate": "1997-10-15 00:00:00.000"
                                },
                                {
                                    "CustomerName": "HILARION-Abastos",
                                    "OrderDate": "1997-12-25 00:00:00.000"
                                },
                                {
                                    "CustomerName": "Hungry Coyote Import Store",
                                    "OrderDate": "1997-01-15 00:00:00.000"
                                },
                                {
                                    "CustomerName": "Hungry Coyote Import Store",
                                    "OrderDate": "1997-07-16 00:00:00.000"
                                },
                                {
                                    "CustomerName": "Hungry Coyote Import Store",
                                    "OrderDate": "1997-09-08 00:00:00.000"
                                },
                                {
                                    "CustomerName": "Hungry Owl All-Night Grocers",
                                    "OrderDate": "1997-01-29 00:00:00.000"
                                },
                                {
                                    "CustomerName": "Hungry Owl All-Night Grocers",
                                    "OrderDate": "1997-04-11 00:00:00.000"
                                },
                                {
                                    "CustomerName": "Hungry Owl All-Night Grocers",
                                    "OrderDate": "1997-04-24 00:00:00.000"
                                },
                                {
                                    "CustomerName": "Hungry Owl All-Night Grocers",
                                    "OrderDate": "1997-06-12 00:00:00.000"
                                },
                                {
                                    "CustomerName": "Hungry Owl All-Night Grocers",
                                    "OrderDate": "1997-08-27 00:00:00.000"
                                },
                                {
                                    "CustomerName": "Hungry Owl All-Night Grocers",
                                    "OrderDate": "1997-09-09 00:00:00.000"
                                },
                                {
                                    "CustomerName": "Hungry Owl All-Night Grocers",
                                    "OrderDate": "1997-09-30 00:00:00.000"
                                },
                                {
                                    "CustomerName": "Hungry Owl All-Night Grocers",
                                    "OrderDate": "1997-10-13 00:00:00.000"
                                },
                                {
                                    "CustomerName": "Hungry Owl All-Night Grocers",
                                    "OrderDate": "1997-10-21 00:00:00.000"
                                },
                                {
                                    "CustomerName": "Hungry Owl All-Night Grocers",
                                    "OrderDate": "1997-11-11 00:00:00.000"
                                },
                                {
                                    "CustomerName": "Island Trading",
                                    "OrderDate": "1997-03-13 00:00:00.000"
                                },
                                {
                                    "CustomerName": "Island Trading",
                                    "OrderDate": "1997-08-05 00:00:00.000"
                                },
                                {
                                    "CustomerName": "Island Trading",
                                    "OrderDate": "1997-09-18 00:00:00.000"
                                },
                                {
                                    "CustomerName": "Island Trading",
                                    "OrderDate": "1997-11-20 00:00:00.000"
                                },
                                {
                                    "CustomerName": "Island Trading",
                                    "OrderDate": "1997-12-26 00:00:00.000"
                                },
                                {
                                    "CustomerName": "Königlich Essen",
                                    "OrderDate": "1997-02-25 00:00:00.000"
                                },
                                {
                                    "CustomerName": "Königlich Essen",
                                    "OrderDate": "1997-02-25 00:00:00.000"
                                },
                                {
                                    "CustomerName": "Königlich Essen",
                                    "OrderDate": "1997-03-07 00:00:00.000"
                                },
                                {
                                    "CustomerName": "Königlich Essen",
                                    "OrderDate": "1997-04-15 00:00:00.000"
                                },
                                {
                                    "CustomerName": "Königlich Essen",
                                    "OrderDate": "1997-05-20 00:00:00.000"
                                },
                                {
                                    "CustomerName": "Königlich Essen",
                                    "OrderDate": "1997-08-13 00:00:00.000"
                                },
                                {
                                    "CustomerName": "Königlich Essen",
                                    "OrderDate": "1997-10-27 00:00:00.000"
                                },
                                {
                                    "CustomerName": "Königlich Essen",
                                    "OrderDate": "1997-12-26 00:00:00.000"
                                },
                                {
                                    "CustomerName": "La maison d'Asie",
                                    "OrderDate": "1997-01-14 00:00:00.000"
                                },
                                {
                                    "CustomerName": "La maison d'Asie",
                                    "OrderDate": "1997-01-24 00:00:00.000"
                                },
                                {
                                    "CustomerName": "La maison d'Asie",
                                    "OrderDate": "1997-02-21 00:00:00.000"
                                },
                                {
                                    "CustomerName": "La maison d'Asie",
                                    "OrderDate": "1997-04-02 00:00:00.000"
                                },
                                {
                                    "CustomerName": "La maison d'Asie",
                                    "OrderDate": "1997-04-09 00:00:00.000"
                                },
                                {
                                    "CustomerName": "La maison d'Asie",
                                    "OrderDate": "1997-07-25 00:00:00.000"
                                },
                                {
                                    "CustomerName": "La maison d'Asie",
                                    "OrderDate": "1997-08-14 00:00:00.000"
                                },
                                {
                                    "CustomerName": "La maison d'Asie",
                                    "OrderDate": "1997-12-19 00:00:00.000"
                                },
                                {
                                    "CustomerName": "Laughing Bacchus Wine Cellars",
                                    "OrderDate": "1997-04-03 00:00:00.000"
                                },
                                {
                                    "CustomerName": "Laughing Bacchus Wine Cellars",
                                    "OrderDate": "1997-08-05 00:00:00.000"
                                },
                                {
                                    "CustomerName": "Lazy K Kountry Store",
                                    "OrderDate": "1997-03-21 00:00:00.000"
                                },
                                {
                                    "CustomerName": "Lazy K Kountry Store",
                                    "OrderDate": "1997-05-22 00:00:00.000"
                                },
                                {
                                    "CustomerName": "Lehmanns Marktstand",
                                    "OrderDate": "1997-04-04 00:00:00.000"
                                },
                                {
                                    "CustomerName": "Lehmanns Marktstand",
                                    "OrderDate": "1997-04-30 00:00:00.000"
                                },
                                {
                                    "CustomerName": "Lehmanns Marktstand",
                                    "OrderDate": "1997-05-12 00:00:00.000"
                                },
                                {
                                    "CustomerName": "Lehmanns Marktstand",
                                    "OrderDate": "1997-05-14 00:00:00.000"
                                },
                                {
                                    "CustomerName": "Lehmanns Marktstand",
                                    "OrderDate": "1997-06-03 00:00:00.000"
                                },
                                {
                                    "CustomerName": "Lehmanns Marktstand",
                                    "OrderDate": "1997-07-08 00:00:00.000"
                                },
                                {
                                    "CustomerName": "Lehmanns Marktstand",
                                    "OrderDate": "1997-07-09 00:00:00.000"
                                },
                                {
                                    "CustomerName": "Lehmanns Marktstand",
                                    "OrderDate": "1997-12-10 00:00:00.000"
                                },
                                {
                                    "CustomerName": "Let's Stop N Shop",
                                    "OrderDate": "1997-06-25 00:00:00.000"
                                },
                                {
                                    "CustomerName": "Let's Stop N Shop",
                                    "OrderDate": "1997-10-27 00:00:00.000"
                                },
                                {
                                    "CustomerName": "Let's Stop N Shop",
                                    "OrderDate": "1997-11-10 00:00:00.000"
                                },
                                {
                                    "CustomerName": "LILA-Supermercado",
                                    "OrderDate": "1997-02-28 00:00:00.000"
                                },
                                {
                                    "CustomerName": "LILA-Supermercado",
                                    "OrderDate": "1997-04-08 00:00:00.000"
                                },
                                {
                                    "CustomerName": "LILA-Supermercado",
                                    "OrderDate": "1997-05-21 00:00:00.000"
                                },
                                {
                                    "CustomerName": "LILA-Supermercado",
                                    "OrderDate": "1997-12-16 00:00:00.000"
                                },
                                {
                                    "CustomerName": "LINO-Delicateses",
                                    "OrderDate": "1997-01-06 00:00:00.000"
                                },
                                {
                                    "CustomerName": "LINO-Delicateses",
                                    "OrderDate": "1997-03-25 00:00:00.000"
                                },
                                {
                                    "CustomerName": "LINO-Delicateses",
                                    "OrderDate": "1997-08-20 00:00:00.000"
                                },
                                {
                                    "CustomerName": "LINO-Delicateses",
                                    "OrderDate": "1997-10-08 00:00:00.000"
                                },
                                {
                                    "CustomerName": "LINO-Delicateses",
                                    "OrderDate": "1997-11-04 00:00:00.000"
                                },
                                {
                                    "CustomerName": "Lonesome Pine Restaurant",
                                    "OrderDate": "1997-05-21 00:00:00.000"
                                },
                                {
                                    "CustomerName": "Lonesome Pine Restaurant",
                                    "OrderDate": "1997-09-09 00:00:00.000"
                                },
                                {
                                    "CustomerName": "Lonesome Pine Restaurant",
                                    "OrderDate": "1997-09-11 00:00:00.000"
                                },
                                {
                                    "CustomerName": "Magazzini Alimentari Riuniti",
                                    "OrderDate": "1997-01-03 00:00:00.000"
                                },
                                {
                                    "CustomerName": "Magazzini Alimentari Riuniti",
                                    "OrderDate": "1997-03-06 00:00:00.000"
                                },
                                {
                                    "CustomerName": "Magazzini Alimentari Riuniti",
                                    "OrderDate": "1997-08-18 00:00:00.000"
                                },
                                {
                                    "CustomerName": "Magazzini Alimentari Riuniti",
                                    "OrderDate": "1997-11-25 00:00:00.000"
                                },
                                {
                                    "CustomerName": "Magazzini Alimentari Riuniti",
                                    "OrderDate": "1997-12-18 00:00:00.000"
                                },
                                {
                                    "CustomerName": "Maison Dewey",
                                    "OrderDate": "1997-05-07 00:00:00.000"
                                },
                                {
                                    "CustomerName": "Maison Dewey",
                                    "OrderDate": "1997-08-28 00:00:00.000"
                                },
                                {
                                    "CustomerName": "Maison Dewey",
                                    "OrderDate": "1997-12-01 00:00:00.000"
                                },
                                {
                                    "CustomerName": "Mère Paillarde",
                                    "OrderDate": "1997-01-23 00:00:00.000"
                                },
                                {
                                    "CustomerName": "Mère Paillarde",
                                    "OrderDate": "1997-02-07 00:00:00.000"
                                },
                                {
                                    "CustomerName": "Mère Paillarde",
                                    "OrderDate": "1997-04-14 00:00:00.000"
                                },
                                {
                                    "CustomerName": "Mère Paillarde",
                                    "OrderDate": "1997-06-11 00:00:00.000"
                                },
                                {
                                    "CustomerName": "Mère Paillarde",
                                    "OrderDate": "1997-06-17 00:00:00.000"
                                },
                                {
                                    "CustomerName": "Mère Paillarde",
                                    "OrderDate": "1997-07-07 00:00:00.000"
                                },
                                {
                                    "CustomerName": "Mère Paillarde",
                                    "OrderDate": "1997-07-21 00:00:00.000"
                                },
                                {
                                    "CustomerName": "Mère Paillarde",
                                    "OrderDate": "1997-08-01 00:00:00.000"
                                },
                                {
                                    "CustomerName": "Mère Paillarde",
                                    "OrderDate": "1997-08-04 00:00:00.000"
                                },
                                {
                                    "CustomerName": "Mère Paillarde",
                                    "OrderDate": "1997-10-30 00:00:00.000"
                                },
                                {
                                    "CustomerName": "Morgenstern Gesundkost",
                                    "OrderDate": "1997-06-20 00:00:00.000"
                                },
                                {
                                    "CustomerName": "Morgenstern Gesundkost",
                                    "OrderDate": "1997-10-09 00:00:00.000"
                                },
                                {
                                    "CustomerName": "Morgenstern Gesundkost",
                                    "OrderDate": "1997-12-16 00:00:00.000"
                                },
                                {
                                    "CustomerName": "North/South",
                                    "OrderDate": "1997-04-24 00:00:00.000"
                                },
                                {
                                    "CustomerName": "North/South",
                                    "OrderDate": "1997-11-24 00:00:00.000"
                                },
                                {
                                    "CustomerName": "Océano Atlántico Ltda.",
                                    "OrderDate": "1997-01-09 00:00:00.000"
                                },
                                {
                                    "CustomerName": "Océano Atlántico Ltda.",
                                    "OrderDate": "1997-05-08 00:00:00.000"
                                },
                                {
                                    "CustomerName": "Old World Delicatessen",
                                    "OrderDate": "1997-02-10 00:00:00.000"
                                },
                                {
                                    "CustomerName": "Old World Delicatessen",
                                    "OrderDate": "1997-07-09 00:00:00.000"
                                },
                                {
                                    "CustomerName": "Old World Delicatessen",
                                    "OrderDate": "1997-09-24 00:00:00.000"
                                },
                                {
                                    "CustomerName": "Old World Delicatessen",
                                    "OrderDate": "1997-10-16 00:00:00.000"
                                },
                                {
                                    "CustomerName": "Ottilies Käseladen",
                                    "OrderDate": "1997-01-07 00:00:00.000"
                                },
                                {
                                    "CustomerName": "Ottilies Käseladen",
                                    "OrderDate": "1997-04-16 00:00:00.000"
                                },
                                {
                                    "CustomerName": "Ottilies Käseladen",
                                    "OrderDate": "1997-05-30 00:00:00.000"
                                },
                                {
                                    "CustomerName": "Ottilies Käseladen",
                                    "OrderDate": "1997-06-26 00:00:00.000"
                                },
                                {
                                    "CustomerName": "Ottilies Käseladen",
                                    "OrderDate": "1997-09-26 00:00:00.000"
                                },
                                {
                                    "CustomerName": "Ottilies Käseladen",
                                    "OrderDate": "1997-12-05 00:00:00.000"
                                },
                                {
                                    "CustomerName": "Pericles Comidas clásicas",
                                    "OrderDate": "1997-03-13 00:00:00.000"
                                },
                                {
                                    "CustomerName": "Pericles Comidas clásicas",
                                    "OrderDate": "1997-04-10 00:00:00.000"
                                },
                                {
                                    "CustomerName": "Piccolo und mehr",
                                    "OrderDate": "1997-01-27 00:00:00.000"
                                },
                                {
                                    "CustomerName": "Piccolo und mehr",
                                    "OrderDate": "1997-03-28 00:00:00.000"
                                },
                                {
                                    "CustomerName": "Piccolo und mehr",
                                    "OrderDate": "1997-05-08 00:00:00.000"
                                },
                                {
                                    "CustomerName": "Piccolo und mehr",
                                    "OrderDate": "1997-07-11 00:00:00.000"
                                },
                                {
                                    "CustomerName": "Piccolo und mehr",
                                    "OrderDate": "1997-09-30 00:00:00.000"
                                },
                                {
                                    "CustomerName": "Piccolo und mehr",
                                    "OrderDate": "1997-11-19 00:00:00.000"
                                },
                                {
                                    "CustomerName": "Princesa Isabel Vinhos",
                                    "OrderDate": "1997-02-03 00:00:00.000"
                                },
                                {
                                    "CustomerName": "Princesa Isabel Vinhos",
                                    "OrderDate": "1997-03-17 00:00:00.000"
                                },
                                {
                                    "CustomerName": "Que Delícia",
                                    "OrderDate": "1997-01-21 00:00:00.000"
                                },
                                {
                                    "CustomerName": "Que Delícia",
                                    "OrderDate": "1997-07-02 00:00:00.000"
                                },
                                {
                                    "CustomerName": "Que Delícia",
                                    "OrderDate": "1997-08-27 00:00:00.000"
                                },
                                {
                                    "CustomerName": "Que Delícia",
                                    "OrderDate": "1997-10-28 00:00:00.000"
                                },
                                {
                                    "CustomerName": "Que Delícia",
                                    "OrderDate": "1997-12-24 00:00:00.000"
                                },
                                {
                                    "CustomerName": "Queen Cozinha",
                                    "OrderDate": "1997-01-07 00:00:00.000"
                                },
                                {
                                    "CustomerName": "Queen Cozinha",
                                    "OrderDate": "1997-03-26 00:00:00.000"
                                },
                                {
                                    "CustomerName": "Queen Cozinha",
                                    "OrderDate": "1997-08-19 00:00:00.000"
                                },
                                {
                                    "CustomerName": "Queen Cozinha",
                                    "OrderDate": "1997-09-05 00:00:00.000"
                                },
                                {
                                    "CustomerName": "Queen Cozinha",
                                    "OrderDate": "1997-10-14 00:00:00.000"
                                },
                                {
                                    "CustomerName": "Queen Cozinha",
                                    "OrderDate": "1997-11-04 00:00:00.000"
                                },
                                {
                                    "CustomerName": "Queen Cozinha",
                                    "OrderDate": "1997-12-19 00:00:00.000"
                                },
                                {
                                    "CustomerName": "QUICK-Stop",
                                    "OrderDate": "1997-01-17 00:00:00.000"
                                },
                                {
                                    "CustomerName": "QUICK-Stop",
                                    "OrderDate": "1997-02-19 00:00:00.000"
                                },
                                {
                                    "CustomerName": "QUICK-Stop",
                                    "OrderDate": "1997-04-23 00:00:00.000"
                                },
                                {
                                    "CustomerName": "QUICK-Stop",
                                    "OrderDate": "1997-05-05 00:00:00.000"
                                },
                                {
                                    "CustomerName": "QUICK-Stop",
                                    "OrderDate": "1997-05-19 00:00:00.000"
                                },
                                {
                                    "CustomerName": "QUICK-Stop",
                                    "OrderDate": "1997-05-27 00:00:00.000"
                                },
                                {
                                    "CustomerName": "QUICK-Stop",
                                    "OrderDate": "1997-07-03 00:00:00.000"
                                },
                                {
                                    "CustomerName": "QUICK-Stop",
                                    "OrderDate": "1997-09-05 00:00:00.000"
                                },
                                {
                                    "CustomerName": "QUICK-Stop",
                                    "OrderDate": "1997-10-03 00:00:00.000"
                                },
                                {
                                    "CustomerName": "QUICK-Stop",
                                    "OrderDate": "1997-10-06 00:00:00.000"
                                },
                                {
                                    "CustomerName": "QUICK-Stop",
                                    "OrderDate": "1997-10-29 00:00:00.000"
                                },
                                {
                                    "CustomerName": "QUICK-Stop",
                                    "OrderDate": "1997-11-18 00:00:00.000"
                                },
                                {
                                    "CustomerName": "QUICK-Stop",
                                    "OrderDate": "1997-12-04 00:00:00.000"
                                },
                                {
                                    "CustomerName": "QUICK-Stop",
                                    "OrderDate": "1997-12-22 00:00:00.000"
                                },
                                {
                                    "CustomerName": "Rancho grande",
                                    "OrderDate": "1997-02-17 00:00:00.000"
                                },
                                {
                                    "CustomerName": "Rancho grande",
                                    "OrderDate": "1997-10-24 00:00:00.000"
                                },
                                {
                                    "CustomerName": "Rattlesnake Canyon Grocery",
                                    "OrderDate": "1997-03-19 00:00:00.000"
                                },
                                {
                                    "CustomerName": "Rattlesnake Canyon Grocery",
                                    "OrderDate": "1997-06-10 00:00:00.000"
                                },
                                {
                                    "CustomerName": "Rattlesnake Canyon Grocery",
                                    "OrderDate": "1997-06-16 00:00:00.000"
                                },
                                {
                                    "CustomerName": "Rattlesnake Canyon Grocery",
                                    "OrderDate": "1997-07-14 00:00:00.000"
                                },
                                {
                                    "CustomerName": "Rattlesnake Canyon Grocery",
                                    "OrderDate": "1997-12-02 00:00:00.000"
                                },
                                {
                                    "CustomerName": "Reggiani Caseifici",
                                    "OrderDate": "1997-01-28 00:00:00.000"
                                },
                                {
                                    "CustomerName": "Reggiani Caseifici",
                                    "OrderDate": "1997-02-12 00:00:00.000"
                                },
                                {
                                    "CustomerName": "Reggiani Caseifici",
                                    "OrderDate": "1997-06-09 00:00:00.000"
                                },
                                {
                                    "CustomerName": "Reggiani Caseifici",
                                    "OrderDate": "1997-07-02 00:00:00.000"
                                },
                                {
                                    "CustomerName": "Reggiani Caseifici",
                                    "OrderDate": "1997-09-03 00:00:00.000"
                                },
                                {
                                    "CustomerName": "Reggiani Caseifici",
                                    "OrderDate": "1997-11-03 00:00:00.000"
                                },
                                {
                                    "CustomerName": "Ricardo Adocicados",
                                    "OrderDate": "1997-02-14 00:00:00.000"
                                },
                                {
                                    "CustomerName": "Ricardo Adocicados",
                                    "OrderDate": "1997-03-20 00:00:00.000"
                                },
                                {
                                    "CustomerName": "Ricardo Adocicados",
                                    "OrderDate": "1997-06-10 00:00:00.000"
                                },
                                {
                                    "CustomerName": "Ricardo Adocicados",
                                    "OrderDate": "1997-08-06 00:00:00.000"
                                },
                                {
                                    "CustomerName": "Ricardo Adocicados",
                                    "OrderDate": "1997-08-28 00:00:00.000"
                                },
                                {
                                    "CustomerName": "Richter Supermarkt",
                                    "OrderDate": "1997-01-20 00:00:00.000"
                                },
                                {
                                    "CustomerName": "Richter Supermarkt",
                                    "OrderDate": "1997-05-14 00:00:00.000"
                                },
                                {
                                    "CustomerName": "Richter Supermarkt",
                                    "OrderDate": "1997-09-12 00:00:00.000"
                                },
                                {
                                    "CustomerName": "Richter Supermarkt",
                                    "OrderDate": "1997-11-24 00:00:00.000"
                                },
                                {
                                    "CustomerName": "Richter Supermarkt",
                                    "OrderDate": "1997-11-28 00:00:00.000"
                                },
                                {
                                    "CustomerName": "Santé Gourmet",
                                    "OrderDate": "1997-04-29 00:00:00.000"
                                },
                                {
                                    "CustomerName": "Santé Gourmet",
                                    "OrderDate": "1997-08-20 00:00:00.000"
                                },
                                {
                                    "CustomerName": "Save-a-lot Markets",
                                    "OrderDate": "1997-02-10 00:00:00.000"
                                },
                                {
                                    "CustomerName": "Save-a-lot Markets",
                                    "OrderDate": "1997-02-20 00:00:00.000"
                                },
                                {
                                    "CustomerName": "Save-a-lot Markets",
                                    "OrderDate": "1997-04-18 00:00:00.000"
                                },
                                {
                                    "CustomerName": "Save-a-lot Markets",
                                    "OrderDate": "1997-06-02 00:00:00.000"
                                },
                                {
                                    "CustomerName": "Save-a-lot Markets",
                                    "OrderDate": "1997-07-18 00:00:00.000"
                                },
                                {
                                    "CustomerName": "Save-a-lot Markets",
                                    "OrderDate": "1997-07-22 00:00:00.000"
                                },
                                {
                                    "CustomerName": "Save-a-lot Markets",
                                    "OrderDate": "1997-07-28 00:00:00.000"
                                },
                                {
                                    "CustomerName": "Save-a-lot Markets",
                                    "OrderDate": "1997-08-11 00:00:00.000"
                                },
                                {
                                    "CustomerName": "Save-a-lot Markets",
                                    "OrderDate": "1997-09-04 00:00:00.000"
                                },
                                {
                                    "CustomerName": "Save-a-lot Markets",
                                    "OrderDate": "1997-09-23 00:00:00.000"
                                },
                                {
                                    "CustomerName": "Save-a-lot Markets",
                                    "OrderDate": "1997-10-10 00:00:00.000"
                                },
                                {
                                    "CustomerName": "Save-a-lot Markets",
                                    "OrderDate": "1997-10-21 00:00:00.000"
                                },
                                {
                                    "CustomerName": "Save-a-lot Markets",
                                    "OrderDate": "1997-10-22 00:00:00.000"
                                },
                                {
                                    "CustomerName": "Save-a-lot Markets",
                                    "OrderDate": "1997-10-22 00:00:00.000"
                                },
                                {
                                    "CustomerName": "Save-a-lot Markets",
                                    "OrderDate": "1997-10-29 00:00:00.000"
                                },
                                {
                                    "CustomerName": "Save-a-lot Markets",
                                    "OrderDate": "1997-11-20 00:00:00.000"
                                },
                                {
                                    "CustomerName": "Save-a-lot Markets",
                                    "OrderDate": "1997-11-27 00:00:00.000"
                                },
                                {
                                    "CustomerName": "Seven Seas Imports",
                                    "OrderDate": "1997-03-12 00:00:00.000"
                                },
                                {
                                    "CustomerName": "Seven Seas Imports",
                                    "OrderDate": "1997-05-01 00:00:00.000"
                                },
                                {
                                    "CustomerName": "Seven Seas Imports",
                                    "OrderDate": "1997-05-23 00:00:00.000"
                                },
                                {
                                    "CustomerName": "Seven Seas Imports",
                                    "OrderDate": "1997-12-26 00:00:00.000"
                                },
                                {
                                    "CustomerName": "Seven Seas Imports",
                                    "OrderDate": "1997-12-30 00:00:00.000"
                                },
                                {
                                    "CustomerName": "Simons bistro",
                                    "OrderDate": "1997-01-16 00:00:00.000"
                                },
                                {
                                    "CustomerName": "Simons bistro",
                                    "OrderDate": "1997-06-03 00:00:00.000"
                                },
                                {
                                    "CustomerName": "Simons bistro",
                                    "OrderDate": "1997-08-22 00:00:00.000"
                                },
                                {
                                    "CustomerName": "Simons bistro",
                                    "OrderDate": "1997-09-15 00:00:00.000"
                                },
                                {
                                    "CustomerName": "Simons bistro",
                                    "OrderDate": "1997-12-29 00:00:00.000"
                                },
                                {
                                    "CustomerName": "Spécialités du monde",
                                    "OrderDate": "1997-11-12 00:00:00.000"
                                },
                                {
                                    "CustomerName": "Split Rail Beer & Ale",
                                    "OrderDate": "1997-01-31 00:00:00.000"
                                },
                                {
                                    "CustomerName": "Split Rail Beer & Ale",
                                    "OrderDate": "1997-11-27 00:00:00.000"
                                },
                                {
                                    "CustomerName": "Suprêmes délices",
                                    "OrderDate": "1997-02-26 00:00:00.000"
                                },
                                {
                                    "CustomerName": "Suprêmes délices",
                                    "OrderDate": "1997-03-04 00:00:00.000"
                                },
                                {
                                    "CustomerName": "Suprêmes délices",
                                    "OrderDate": "1997-03-14 00:00:00.000"
                                },
                                {
                                    "CustomerName": "Suprêmes délices",
                                    "OrderDate": "1997-12-05 00:00:00.000"
                                },
                                {
                                    "CustomerName": "The Big Cheese",
                                    "OrderDate": "1997-10-17 00:00:00.000"
                                },
                                {
                                    "CustomerName": "The Big Cheese",
                                    "OrderDate": "1997-12-30 00:00:00.000"
                                },
                                {
                                    "CustomerName": "The Cracker Box",
                                    "OrderDate": "1997-08-07 00:00:00.000"
                                },
                                {
                                    "CustomerName": "The Cracker Box",
                                    "OrderDate": "1997-12-12 00:00:00.000"
                                },
                                {
                                    "CustomerName": "Toms Spezialitäten",
                                    "OrderDate": "1997-02-06 00:00:00.000"
                                },
                                {
                                    "CustomerName": "Toms Spezialitäten",
                                    "OrderDate": "1997-02-14 00:00:00.000"
                                },
                                {
                                    "CustomerName": "Toms Spezialitäten",
                                    "OrderDate": "1997-05-26 00:00:00.000"
                                },
                                {
                                    "CustomerName": "Toms Spezialitäten",
                                    "OrderDate": "1997-07-23 00:00:00.000"
                                },
                                {
                                    "CustomerName": "Tortuga Restaurante",
                                    "OrderDate": "1997-04-25 00:00:00.000"
                                },
                                {
                                    "CustomerName": "Tortuga Restaurante",
                                    "OrderDate": "1997-06-23 00:00:00.000"
                                },
                                {
                                    "CustomerName": "Tortuga Restaurante",
                                    "OrderDate": "1997-09-22 00:00:00.000"
                                },
                                {
                                    "CustomerName": "Tradição Hipermercados",
                                    "OrderDate": "1997-04-04 00:00:00.000"
                                },
                                {
                                    "CustomerName": "Tradição Hipermercados",
                                    "OrderDate": "1997-07-22 00:00:00.000"
                                },
                                {
                                    "CustomerName": "Trail's Head Gourmet Provisioners",
                                    "OrderDate": "1997-06-19 00:00:00.000"
                                },
                                {
                                    "CustomerName": "Trail's Head Gourmet Provisioners",
                                    "OrderDate": "1997-06-23 00:00:00.000"
                                },
                                {
                                    "CustomerName": "Vaffeljernet",
                                    "OrderDate": "1997-03-05 00:00:00.000"
                                },
                                {
                                    "CustomerName": "Vaffeljernet",
                                    "OrderDate": "1997-07-07 00:00:00.000"
                                },
                                {
                                    "CustomerName": "Vaffeljernet",
                                    "OrderDate": "1997-07-17 00:00:00.000"
                                },
                                {
                                    "CustomerName": "Vaffeljernet",
                                    "OrderDate": "1997-10-01 00:00:00.000"
                                },
                                {
                                    "CustomerName": "Vaffeljernet",
                                    "OrderDate": "1997-11-17 00:00:00.000"
                                },
                                {
                                    "CustomerName": "Vaffeljernet",
                                    "OrderDate": "1997-12-08 00:00:00.000"
                                },
                                {
                                    "CustomerName": "Victuailles en stock",
                                    "OrderDate": "1997-02-19 00:00:00.000"
                                },
                                {
                                    "CustomerName": "Victuailles en stock",
                                    "OrderDate": "1997-02-27 00:00:00.000"
                                },
                                {
                                    "CustomerName": "Victuailles en stock",
                                    "OrderDate": "1997-03-18 00:00:00.000"
                                },
                                {
                                    "CustomerName": "Victuailles en stock",
                                    "OrderDate": "1997-05-23 00:00:00.000"
                                },
                                {
                                    "CustomerName": "Victuailles en stock",
                                    "OrderDate": "1997-12-31 00:00:00.000"
                                },
                                {
                                    "CustomerName": "Vins et alcools Chevalier",
                                    "OrderDate": "1997-11-11 00:00:00.000"
                                },
                                {
                                    "CustomerName": "Vins et alcools Chevalier",
                                    "OrderDate": "1997-11-12 00:00:00.000"
                                },
                                {
                                    "CustomerName": "Wartian Herkku",
                                    "OrderDate": "1997-01-13 00:00:00.000"
                                },
                                {
                                    "CustomerName": "Wartian Herkku",
                                    "OrderDate": "1997-01-16 00:00:00.000"
                                },
                                {
                                    "CustomerName": "Wartian Herkku",
                                    "OrderDate": "1997-02-05 00:00:00.000"
                                },
                                {
                                    "CustomerName": "Wartian Herkku",
                                    "OrderDate": "1997-02-24 00:00:00.000"
                                },
                                {
                                    "CustomerName": "Wartian Herkku",
                                    "OrderDate": "1997-05-05 00:00:00.000"
                                },
                                {
                                    "CustomerName": "Wartian Herkku",
                                    "OrderDate": "1997-05-30 00:00:00.000"
                                },
                                {
                                    "CustomerName": "Wartian Herkku",
                                    "OrderDate": "1997-06-30 00:00:00.000"
                                },
                                {
                                    "CustomerName": "Wartian Herkku",
                                    "OrderDate": "1997-08-19 00:00:00.000"
                                },
                                {
                                    "CustomerName": "Wartian Herkku",
                                    "OrderDate": "1997-11-21 00:00:00.000"
                                },
                                {
                                    "CustomerName": "Wartian Herkku",
                                    "OrderDate": "1997-12-17 00:00:00.000"
                                },
                                {
                                    "CustomerName": "Wellington Importadora",
                                    "OrderDate": "1997-01-21 00:00:00.000"
                                },
                                {
                                    "CustomerName": "Wellington Importadora",
                                    "OrderDate": "1997-07-01 00:00:00.000"
                                },
                                {
                                    "CustomerName": "Wellington Importadora",
                                    "OrderDate": "1997-08-25 00:00:00.000"
                                },
                                {
                                    "CustomerName": "Wellington Importadora",
                                    "OrderDate": "1997-12-30 00:00:00.000"
                                },
                                {
                                    "CustomerName": "White Clover Markets",
                                    "OrderDate": "1997-03-10 00:00:00.000"
                                },
                                {
                                    "CustomerName": "White Clover Markets",
                                    "OrderDate": "1997-03-24 00:00:00.000"
                                },
                                {
                                    "CustomerName": "White Clover Markets",
                                    "OrderDate": "1997-04-11 00:00:00.000"
                                },
                                {
                                    "CustomerName": "White Clover Markets",
                                    "OrderDate": "1997-07-11 00:00:00.000"
                                },
                                {
                                    "CustomerName": "White Clover Markets",
                                    "OrderDate": "1997-10-06 00:00:00.000"
                                },
                                {
                                    "CustomerName": "White Clover Markets",
                                    "OrderDate": "1997-10-08 00:00:00.000"
                                },
                                {
                                    "CustomerName": "White Clover Markets",
                                    "OrderDate": "1997-10-30 00:00:00.000"
                                },
                                {
                                    "CustomerName": "White Clover Markets",
                                    "OrderDate": "1997-11-13 00:00:00.000"
                                },
                                {
                                    "CustomerName": "Wilman Kala",
                                    "OrderDate": "1997-07-30 00:00:00.000"
                                },
                                {
                                    "CustomerName": "Wilman Kala",
                                    "OrderDate": "1997-09-18 00:00:00.000"
                                },
                                {
                                    "CustomerName": "Wilman Kala",
                                    "OrderDate": "1997-10-07 00:00:00.000"
                                },
                                {
                                    "CustomerName": "Wolski  Zajazd",
                                    "OrderDate": "1997-07-25 00:00:00.000"
                                },
                                {
                                    "CustomerName": "Wolski  Zajazd",
                                    "OrderDate": "1997-12-23 00:00:00.000"
                                }
                            ]
                        },
                        "text/html": [
                            "<table>",
                            "<tr><th>CustomerName</th><th>OrderDate</th></tr>",
                            "<tr><td>Alfreds Futterkiste</td><td>1997-08-25 00:00:00.000</td></tr>",
                            "<tr><td>Alfreds Futterkiste</td><td>1997-10-03 00:00:00.000</td></tr>",
                            "<tr><td>Alfreds Futterkiste</td><td>1997-10-13 00:00:00.000</td></tr>",
                            "<tr><td>Ana Trujillo Emparedados y helados</td><td>1997-08-08 00:00:00.000</td></tr>",
                            "<tr><td>Ana Trujillo Emparedados y helados</td><td>1997-11-28 00:00:00.000</td></tr>",
                            "<tr><td>Antonio Moreno Taquería</td><td>1997-04-15 00:00:00.000</td></tr>",
                            "<tr><td>Antonio Moreno Taquería</td><td>1997-05-13 00:00:00.000</td></tr>",
                            "<tr><td>Antonio Moreno Taquería</td><td>1997-06-19 00:00:00.000</td></tr>",
                            "<tr><td>Antonio Moreno Taquería</td><td>1997-09-22 00:00:00.000</td></tr>",
                            "<tr><td>Antonio Moreno Taquería</td><td>1997-09-25 00:00:00.000</td></tr>",
                            "<tr><td>Around the Horn</td><td>1997-02-21 00:00:00.000</td></tr>",
                            "<tr><td>Around the Horn</td><td>1997-06-04 00:00:00.000</td></tr>",
                            "<tr><td>Around the Horn</td><td>1997-10-16 00:00:00.000</td></tr>",
                            "<tr><td>Around the Horn</td><td>1997-11-14 00:00:00.000</td></tr>",
                            "<tr><td>Around the Horn</td><td>1997-11-17 00:00:00.000</td></tr>",
                            "<tr><td>Around the Horn</td><td>1997-12-08 00:00:00.000</td></tr>",
                            "<tr><td>Around the Horn</td><td>1997-12-24 00:00:00.000</td></tr>",
                            "<tr><td>Berglunds snabbköp</td><td>1997-02-12 00:00:00.000</td></tr>",
                            "<tr><td>Berglunds snabbköp</td><td>1997-02-13 00:00:00.000</td></tr>",
                            "<tr><td>Berglunds snabbköp</td><td>1997-05-01 00:00:00.000</td></tr>",
                            "<tr><td>Berglunds snabbköp</td><td>1997-06-18 00:00:00.000</td></tr>",
                            "<tr><td>Berglunds snabbköp</td><td>1997-08-11 00:00:00.000</td></tr>",
                            "<tr><td>Berglunds snabbköp</td><td>1997-09-02 00:00:00.000</td></tr>",
                            "<tr><td>Berglunds snabbköp</td><td>1997-09-17 00:00:00.000</td></tr>",
                            "<tr><td>Berglunds snabbköp</td><td>1997-10-01 00:00:00.000</td></tr>",
                            "<tr><td>Berglunds snabbköp</td><td>1997-11-07 00:00:00.000</td></tr>",
                            "<tr><td>Berglunds snabbköp</td><td>1997-12-16 00:00:00.000</td></tr>",
                            "<tr><td>Blauer See Delikatessen</td><td>1997-04-09 00:00:00.000</td></tr>",
                            "<tr><td>Blauer See Delikatessen</td><td>1997-04-17 00:00:00.000</td></tr>",
                            "<tr><td>Blauer See Delikatessen</td><td>1997-06-27 00:00:00.000</td></tr>",
                            "<tr><td>Blauer See Delikatessen</td><td>1997-07-29 00:00:00.000</td></tr>",
                            "<tr><td>Blondesddsl père et fils</td><td>1997-02-05 00:00:00.000</td></tr>",
                            "<tr><td>Blondesddsl père et fils</td><td>1997-02-18 00:00:00.000</td></tr>",
                            "<tr><td>Blondesddsl père et fils</td><td>1997-06-05 00:00:00.000</td></tr>",
                            "<tr><td>Blondesddsl père et fils</td><td>1997-06-12 00:00:00.000</td></tr>",
                            "<tr><td>Blondesddsl père et fils</td><td>1997-06-30 00:00:00.000</td></tr>",
                            "<tr><td>Blondesddsl père et fils</td><td>1997-08-12 00:00:00.000</td></tr>",
                            "<tr><td>Blondesddsl père et fils</td><td>1997-09-23 00:00:00.000</td></tr>",
                            "<tr><td>Bólido Comidas preparadas</td><td>1997-12-29 00:00:00.000</td></tr>",
                            "<tr><td>Bon app&#39;</td><td>1997-03-11 00:00:00.000</td></tr>",
                            "<tr><td>Bon app&#39;</td><td>1997-04-18 00:00:00.000</td></tr>",
                            "<tr><td>Bon app&#39;</td><td>1997-05-02 00:00:00.000</td></tr>",
                            "<tr><td>Bon app&#39;</td><td>1997-09-10 00:00:00.000</td></tr>",
                            "<tr><td>Bon app&#39;</td><td>1997-10-23 00:00:00.000</td></tr>",
                            "<tr><td>Bon app&#39;</td><td>1997-11-05 00:00:00.000</td></tr>",
                            "<tr><td>Bon app&#39;</td><td>1997-11-06 00:00:00.000</td></tr>",
                            "<tr><td>Bon app&#39;</td><td>1997-11-26 00:00:00.000</td></tr>",
                            "<tr><td>Bottom-Dollar Markets</td><td>1997-01-10 00:00:00.000</td></tr>",
                            "<tr><td>Bottom-Dollar Markets</td><td>1997-01-10 00:00:00.000</td></tr>",
                            "<tr><td>Bottom-Dollar Markets</td><td>1997-01-30 00:00:00.000</td></tr>",
                            "<tr><td>Bottom-Dollar Markets</td><td>1997-04-01 00:00:00.000</td></tr>",
                            "<tr><td>Bottom-Dollar Markets</td><td>1997-11-14 00:00:00.000</td></tr>",
                            "<tr><td>B&#39;s Beverages</td><td>1997-03-11 00:00:00.000</td></tr>",
                            "<tr><td>B&#39;s Beverages</td><td>1997-03-24 00:00:00.000</td></tr>",
                            "<tr><td>B&#39;s Beverages</td><td>1997-05-15 00:00:00.000</td></tr>",
                            "<tr><td>B&#39;s Beverages</td><td>1997-05-16 00:00:00.000</td></tr>",
                            "<tr><td>B&#39;s Beverages</td><td>1997-06-24 00:00:00.000</td></tr>",
                            "<tr><td>B&#39;s Beverages</td><td>1997-07-15 00:00:00.000</td></tr>",
                            "<tr><td>Cactus Comidas para llevar</td><td>1997-04-29 00:00:00.000</td></tr>",
                            "<tr><td>Cactus Comidas para llevar</td><td>1997-12-17 00:00:00.000</td></tr>",
                            "<tr><td>Chop-suey Chinese</td><td>1997-04-28 00:00:00.000</td></tr>",
                            "<tr><td>Chop-suey Chinese</td><td>1997-11-06 00:00:00.000</td></tr>",
                            "<tr><td>Chop-suey Chinese</td><td>1997-11-19 00:00:00.000</td></tr>",
                            "<tr><td>Comércio Mineiro</td><td>1997-03-06 00:00:00.000</td></tr>",
                            "<tr><td>Comércio Mineiro</td><td>1997-04-02 00:00:00.000</td></tr>",
                            "<tr><td>Consolidated Holdings</td><td>1997-02-04 00:00:00.000</td></tr>",
                            "<tr><td>Consolidated Holdings</td><td>1997-03-03 00:00:00.000</td></tr>",
                            "<tr><td>Die Wandernde Kuh</td><td>1997-04-22 00:00:00.000</td></tr>",
                            "<tr><td>Die Wandernde Kuh</td><td>1997-08-14 00:00:00.000</td></tr>",
                            "<tr><td>Die Wandernde Kuh</td><td>1997-08-21 00:00:00.000</td></tr>",
                            "<tr><td>Die Wandernde Kuh</td><td>1997-09-01 00:00:00.000</td></tr>",
                            "<tr><td>Die Wandernde Kuh</td><td>1997-09-15 00:00:00.000</td></tr>",
                            "<tr><td>Drachenblut Delikatessen</td><td>1997-12-25 00:00:00.000</td></tr>",
                            "<tr><td>Du monde entier</td><td>1997-07-24 00:00:00.000</td></tr>",
                            "<tr><td>Du monde entier</td><td>1997-09-26 00:00:00.000</td></tr>",
                            "<tr><td>Eastern Connection</td><td>1997-05-09 00:00:00.000</td></tr>",
                            "<tr><td>Eastern Connection</td><td>1997-11-03 00:00:00.000</td></tr>",
                            "<tr><td>Ernst Handel</td><td>1997-01-02 00:00:00.000</td></tr>",
                            "<tr><td>Ernst Handel</td><td>1997-01-03 00:00:00.000</td></tr>",
                            "<tr><td>Ernst Handel</td><td>1997-01-30 00:00:00.000</td></tr>",
                            "<tr><td>Ernst Handel</td><td>1997-02-11 00:00:00.000</td></tr>",
                            "<tr><td>Ernst Handel</td><td>1997-04-22 00:00:00.000</td></tr>",
                            "<tr><td>Ernst Handel</td><td>1997-06-17 00:00:00.000</td></tr>",
                            "<tr><td>Ernst Handel</td><td>1997-07-10 00:00:00.000</td></tr>",
                            "<tr><td>Ernst Handel</td><td>1997-08-15 00:00:00.000</td></tr>",
                            "<tr><td>Ernst Handel</td><td>1997-09-12 00:00:00.000</td></tr>",
                            "<tr><td>Ernst Handel</td><td>1997-10-09 00:00:00.000</td></tr>",
                            "<tr><td>Ernst Handel</td><td>1997-12-03 00:00:00.000</td></tr>",
                            "<tr><td>Ernst Handel</td><td>1997-12-10 00:00:00.000</td></tr>",
                            "<tr><td>Ernst Handel</td><td>1997-12-11 00:00:00.000</td></tr>",
                            "<tr><td>Ernst Handel</td><td>1997-12-15 00:00:00.000</td></tr>",
                            "<tr><td>Ernst Handel</td><td>1997-12-24 00:00:00.000</td></tr>",
                            "<tr><td>Familia Arquibaldo</td><td>1997-01-14 00:00:00.000</td></tr>",
                            "<tr><td>Familia Arquibaldo</td><td>1997-04-21 00:00:00.000</td></tr>",
                            "<tr><td>Familia Arquibaldo</td><td>1997-06-26 00:00:00.000</td></tr>",
                            "<tr><td>Familia Arquibaldo</td><td>1997-08-29 00:00:00.000</td></tr>",
                            "<tr><td>Familia Arquibaldo</td><td>1997-10-31 00:00:00.000</td></tr>",
                            "<tr><td>Folies gourmandes</td><td>1997-01-08 00:00:00.000</td></tr>",
                            "<tr><td>Folies gourmandes</td><td>1997-03-20 00:00:00.000</td></tr>",
                            "<tr><td>Folies gourmandes</td><td>1997-08-15 00:00:00.000</td></tr>",
                            "<tr><td>Folies gourmandes</td><td>1997-12-03 00:00:00.000</td></tr>",
                            "<tr><td>Folies gourmandes</td><td>1997-12-22 00:00:00.000</td></tr>",
                            "<tr><td>Folk och fä HB</td><td>1997-02-03 00:00:00.000</td></tr>",
                            "<tr><td>Folk och fä HB</td><td>1997-02-28 00:00:00.000</td></tr>",
                            "<tr><td>Folk och fä HB</td><td>1997-05-12 00:00:00.000</td></tr>",
                            "<tr><td>Folk och fä HB</td><td>1997-06-06 00:00:00.000</td></tr>",
                            "<tr><td>Folk och fä HB</td><td>1997-10-14 00:00:00.000</td></tr>",
                            "<tr><td>Folk och fä HB</td><td>1997-12-02 00:00:00.000</td></tr>",
                            "<tr><td>Folk och fä HB</td><td>1997-12-11 00:00:00.000</td></tr>",
                            "<tr><td>France restauration</td><td>1997-09-17 00:00:00.000</td></tr>",
                            "<tr><td>Franchi S.p.A.</td><td>1997-01-22 00:00:00.000</td></tr>",
                            "<tr><td>Franchi S.p.A.</td><td>1997-10-20 00:00:00.000</td></tr>",
                            "<tr><td>Franchi S.p.A.</td><td>1997-11-25 00:00:00.000</td></tr>",
                            "<tr><td>Franchi S.p.A.</td><td>1997-12-31 00:00:00.000</td></tr>",
                            "<tr><td>Frankenversand</td><td>1997-03-27 00:00:00.000</td></tr>",
                            "<tr><td>Frankenversand</td><td>1997-06-06 00:00:00.000</td></tr>",
                            "<tr><td>Frankenversand</td><td>1997-08-07 00:00:00.000</td></tr>",
                            "<tr><td>Frankenversand</td><td>1997-09-02 00:00:00.000</td></tr>",
                            "<tr><td>Frankenversand</td><td>1997-09-16 00:00:00.000</td></tr>",
                            "<tr><td>Frankenversand</td><td>1997-09-19 00:00:00.000</td></tr>",
                            "<tr><td>Frankenversand</td><td>1997-10-24 00:00:00.000</td></tr>",
                            "<tr><td>Frankenversand</td><td>1997-12-23 00:00:00.000</td></tr>",
                            "<tr><td>Furia Bacalhau e Frutos do Mar</td><td>1997-03-04 00:00:00.000</td></tr>",
                            "<tr><td>Furia Bacalhau e Frutos do Mar</td><td>1997-03-31 00:00:00.000</td></tr>",
                            "<tr><td>Furia Bacalhau e Frutos do Mar</td><td>1997-05-28 00:00:00.000</td></tr>",
                            "<tr><td>Furia Bacalhau e Frutos do Mar</td><td>1997-07-18 00:00:00.000</td></tr>",
                            "<tr><td>Furia Bacalhau e Frutos do Mar</td><td>1997-09-10 00:00:00.000</td></tr>",
                            "<tr><td>Galería del gastrónomo</td><td>1997-01-27 00:00:00.000</td></tr>",
                            "<tr><td>Galería del gastrónomo</td><td>1997-06-13 00:00:00.000</td></tr>",
                            "<tr><td>Godos Cocina Típica</td><td>1997-05-28 00:00:00.000</td></tr>",
                            "<tr><td>Godos Cocina Típica</td><td>1997-08-12 00:00:00.000</td></tr>",
                            "<tr><td>Gourmet Lanchonetes</td><td>1997-01-23 00:00:00.000</td></tr>",
                            "<tr><td>Gourmet Lanchonetes</td><td>1997-09-01 00:00:00.000</td></tr>",
                            "<tr><td>Gourmet Lanchonetes</td><td>1997-09-29 00:00:00.000</td></tr>",
                            "<tr><td>Gourmet Lanchonetes</td><td>1997-10-17 00:00:00.000</td></tr>",
                            "<tr><td>Gourmet Lanchonetes</td><td>1997-11-07 00:00:00.000</td></tr>",
                            "<tr><td>Gourmet Lanchonetes</td><td>1997-12-15 00:00:00.000</td></tr>",
                            "<tr><td>Gourmet Lanchonetes</td><td>1997-12-22 00:00:00.000</td></tr>",
                            "<tr><td>Great Lakes Food Market</td><td>1997-05-06 00:00:00.000</td></tr>",
                            "<tr><td>Great Lakes Food Market</td><td>1997-07-04 00:00:00.000</td></tr>",
                            "<tr><td>Great Lakes Food Market</td><td>1997-07-31 00:00:00.000</td></tr>",
                            "<tr><td>Great Lakes Food Market</td><td>1997-07-31 00:00:00.000</td></tr>",
                            "<tr><td>Great Lakes Food Market</td><td>1997-09-04 00:00:00.000</td></tr>",
                            "<tr><td>Great Lakes Food Market</td><td>1997-09-25 00:00:00.000</td></tr>",
                            "<tr><td>GROSELLA-Restaurante</td><td>1997-12-18 00:00:00.000</td></tr>",
                            "<tr><td>Hanari Carnes</td><td>1997-05-19 00:00:00.000</td></tr>",
                            "<tr><td>Hanari Carnes</td><td>1997-08-26 00:00:00.000</td></tr>",
                            "<tr><td>Hanari Carnes</td><td>1997-10-02 00:00:00.000</td></tr>",
                            "<tr><td>Hanari Carnes</td><td>1997-12-09 00:00:00.000</td></tr>",
                            "<tr><td>Hanari Carnes</td><td>1997-12-18 00:00:00.000</td></tr>",
                            "<tr><td>HILARION-Abastos</td><td>1997-03-17 00:00:00.000</td></tr>",
                            "<tr><td>HILARION-Abastos</td><td>1997-03-26 00:00:00.000</td></tr>",
                            "<tr><td>HILARION-Abastos</td><td>1997-03-31 00:00:00.000</td></tr>",
                            "<tr><td>HILARION-Abastos</td><td>1997-04-07 00:00:00.000</td></tr>",
                            "<tr><td>HILARION-Abastos</td><td>1997-05-29 00:00:00.000</td></tr>",
                            "<tr><td>HILARION-Abastos</td><td>1997-07-16 00:00:00.000</td></tr>",
                            "<tr><td>HILARION-Abastos</td><td>1997-07-29 00:00:00.000</td></tr>",
                            "<tr><td>HILARION-Abastos</td><td>1997-08-22 00:00:00.000</td></tr>",
                            "<tr><td>HILARION-Abastos</td><td>1997-10-15 00:00:00.000</td></tr>",
                            "<tr><td>HILARION-Abastos</td><td>1997-12-25 00:00:00.000</td></tr>",
                            "<tr><td>Hungry Coyote Import Store</td><td>1997-01-15 00:00:00.000</td></tr>",
                            "<tr><td>Hungry Coyote Import Store</td><td>1997-07-16 00:00:00.000</td></tr>",
                            "<tr><td>Hungry Coyote Import Store</td><td>1997-09-08 00:00:00.000</td></tr>",
                            "<tr><td>Hungry Owl All-Night Grocers</td><td>1997-01-29 00:00:00.000</td></tr>",
                            "<tr><td>Hungry Owl All-Night Grocers</td><td>1997-04-11 00:00:00.000</td></tr>",
                            "<tr><td>Hungry Owl All-Night Grocers</td><td>1997-04-24 00:00:00.000</td></tr>",
                            "<tr><td>Hungry Owl All-Night Grocers</td><td>1997-06-12 00:00:00.000</td></tr>",
                            "<tr><td>Hungry Owl All-Night Grocers</td><td>1997-08-27 00:00:00.000</td></tr>",
                            "<tr><td>Hungry Owl All-Night Grocers</td><td>1997-09-09 00:00:00.000</td></tr>",
                            "<tr><td>Hungry Owl All-Night Grocers</td><td>1997-09-30 00:00:00.000</td></tr>",
                            "<tr><td>Hungry Owl All-Night Grocers</td><td>1997-10-13 00:00:00.000</td></tr>",
                            "<tr><td>Hungry Owl All-Night Grocers</td><td>1997-10-21 00:00:00.000</td></tr>",
                            "<tr><td>Hungry Owl All-Night Grocers</td><td>1997-11-11 00:00:00.000</td></tr>",
                            "<tr><td>Island Trading</td><td>1997-03-13 00:00:00.000</td></tr>",
                            "<tr><td>Island Trading</td><td>1997-08-05 00:00:00.000</td></tr>",
                            "<tr><td>Island Trading</td><td>1997-09-18 00:00:00.000</td></tr>",
                            "<tr><td>Island Trading</td><td>1997-11-20 00:00:00.000</td></tr>",
                            "<tr><td>Island Trading</td><td>1997-12-26 00:00:00.000</td></tr>",
                            "<tr><td>Königlich Essen</td><td>1997-02-25 00:00:00.000</td></tr>",
                            "<tr><td>Königlich Essen</td><td>1997-02-25 00:00:00.000</td></tr>",
                            "<tr><td>Königlich Essen</td><td>1997-03-07 00:00:00.000</td></tr>",
                            "<tr><td>Königlich Essen</td><td>1997-04-15 00:00:00.000</td></tr>",
                            "<tr><td>Königlich Essen</td><td>1997-05-20 00:00:00.000</td></tr>",
                            "<tr><td>Königlich Essen</td><td>1997-08-13 00:00:00.000</td></tr>",
                            "<tr><td>Königlich Essen</td><td>1997-10-27 00:00:00.000</td></tr>",
                            "<tr><td>Königlich Essen</td><td>1997-12-26 00:00:00.000</td></tr>",
                            "<tr><td>La maison d&#39;Asie</td><td>1997-01-14 00:00:00.000</td></tr>",
                            "<tr><td>La maison d&#39;Asie</td><td>1997-01-24 00:00:00.000</td></tr>",
                            "<tr><td>La maison d&#39;Asie</td><td>1997-02-21 00:00:00.000</td></tr>",
                            "<tr><td>La maison d&#39;Asie</td><td>1997-04-02 00:00:00.000</td></tr>",
                            "<tr><td>La maison d&#39;Asie</td><td>1997-04-09 00:00:00.000</td></tr>",
                            "<tr><td>La maison d&#39;Asie</td><td>1997-07-25 00:00:00.000</td></tr>",
                            "<tr><td>La maison d&#39;Asie</td><td>1997-08-14 00:00:00.000</td></tr>",
                            "<tr><td>La maison d&#39;Asie</td><td>1997-12-19 00:00:00.000</td></tr>",
                            "<tr><td>Laughing Bacchus Wine Cellars</td><td>1997-04-03 00:00:00.000</td></tr>",
                            "<tr><td>Laughing Bacchus Wine Cellars</td><td>1997-08-05 00:00:00.000</td></tr>",
                            "<tr><td>Lazy K Kountry Store</td><td>1997-03-21 00:00:00.000</td></tr>",
                            "<tr><td>Lazy K Kountry Store</td><td>1997-05-22 00:00:00.000</td></tr>",
                            "<tr><td>Lehmanns Marktstand</td><td>1997-04-04 00:00:00.000</td></tr>",
                            "<tr><td>Lehmanns Marktstand</td><td>1997-04-30 00:00:00.000</td></tr>",
                            "<tr><td>Lehmanns Marktstand</td><td>1997-05-12 00:00:00.000</td></tr>",
                            "<tr><td>Lehmanns Marktstand</td><td>1997-05-14 00:00:00.000</td></tr>",
                            "<tr><td>Lehmanns Marktstand</td><td>1997-06-03 00:00:00.000</td></tr>",
                            "<tr><td>Lehmanns Marktstand</td><td>1997-07-08 00:00:00.000</td></tr>",
                            "<tr><td>Lehmanns Marktstand</td><td>1997-07-09 00:00:00.000</td></tr>",
                            "<tr><td>Lehmanns Marktstand</td><td>1997-12-10 00:00:00.000</td></tr>",
                            "<tr><td>Let&#39;s Stop N Shop</td><td>1997-06-25 00:00:00.000</td></tr>",
                            "<tr><td>Let&#39;s Stop N Shop</td><td>1997-10-27 00:00:00.000</td></tr>",
                            "<tr><td>Let&#39;s Stop N Shop</td><td>1997-11-10 00:00:00.000</td></tr>",
                            "<tr><td>LILA-Supermercado</td><td>1997-02-28 00:00:00.000</td></tr>",
                            "<tr><td>LILA-Supermercado</td><td>1997-04-08 00:00:00.000</td></tr>",
                            "<tr><td>LILA-Supermercado</td><td>1997-05-21 00:00:00.000</td></tr>",
                            "<tr><td>LILA-Supermercado</td><td>1997-12-16 00:00:00.000</td></tr>",
                            "<tr><td>LINO-Delicateses</td><td>1997-01-06 00:00:00.000</td></tr>",
                            "<tr><td>LINO-Delicateses</td><td>1997-03-25 00:00:00.000</td></tr>",
                            "<tr><td>LINO-Delicateses</td><td>1997-08-20 00:00:00.000</td></tr>",
                            "<tr><td>LINO-Delicateses</td><td>1997-10-08 00:00:00.000</td></tr>",
                            "<tr><td>LINO-Delicateses</td><td>1997-11-04 00:00:00.000</td></tr>",
                            "<tr><td>Lonesome Pine Restaurant</td><td>1997-05-21 00:00:00.000</td></tr>",
                            "<tr><td>Lonesome Pine Restaurant</td><td>1997-09-09 00:00:00.000</td></tr>",
                            "<tr><td>Lonesome Pine Restaurant</td><td>1997-09-11 00:00:00.000</td></tr>",
                            "<tr><td>Magazzini Alimentari Riuniti</td><td>1997-01-03 00:00:00.000</td></tr>",
                            "<tr><td>Magazzini Alimentari Riuniti</td><td>1997-03-06 00:00:00.000</td></tr>",
                            "<tr><td>Magazzini Alimentari Riuniti</td><td>1997-08-18 00:00:00.000</td></tr>",
                            "<tr><td>Magazzini Alimentari Riuniti</td><td>1997-11-25 00:00:00.000</td></tr>",
                            "<tr><td>Magazzini Alimentari Riuniti</td><td>1997-12-18 00:00:00.000</td></tr>",
                            "<tr><td>Maison Dewey</td><td>1997-05-07 00:00:00.000</td></tr>",
                            "<tr><td>Maison Dewey</td><td>1997-08-28 00:00:00.000</td></tr>",
                            "<tr><td>Maison Dewey</td><td>1997-12-01 00:00:00.000</td></tr>",
                            "<tr><td>Mère Paillarde</td><td>1997-01-23 00:00:00.000</td></tr>",
                            "<tr><td>Mère Paillarde</td><td>1997-02-07 00:00:00.000</td></tr>",
                            "<tr><td>Mère Paillarde</td><td>1997-04-14 00:00:00.000</td></tr>",
                            "<tr><td>Mère Paillarde</td><td>1997-06-11 00:00:00.000</td></tr>",
                            "<tr><td>Mère Paillarde</td><td>1997-06-17 00:00:00.000</td></tr>",
                            "<tr><td>Mère Paillarde</td><td>1997-07-07 00:00:00.000</td></tr>",
                            "<tr><td>Mère Paillarde</td><td>1997-07-21 00:00:00.000</td></tr>",
                            "<tr><td>Mère Paillarde</td><td>1997-08-01 00:00:00.000</td></tr>",
                            "<tr><td>Mère Paillarde</td><td>1997-08-04 00:00:00.000</td></tr>",
                            "<tr><td>Mère Paillarde</td><td>1997-10-30 00:00:00.000</td></tr>",
                            "<tr><td>Morgenstern Gesundkost</td><td>1997-06-20 00:00:00.000</td></tr>",
                            "<tr><td>Morgenstern Gesundkost</td><td>1997-10-09 00:00:00.000</td></tr>",
                            "<tr><td>Morgenstern Gesundkost</td><td>1997-12-16 00:00:00.000</td></tr>",
                            "<tr><td>North/South</td><td>1997-04-24 00:00:00.000</td></tr>",
                            "<tr><td>North/South</td><td>1997-11-24 00:00:00.000</td></tr>",
                            "<tr><td>Océano Atlántico Ltda.</td><td>1997-01-09 00:00:00.000</td></tr>",
                            "<tr><td>Océano Atlántico Ltda.</td><td>1997-05-08 00:00:00.000</td></tr>",
                            "<tr><td>Old World Delicatessen</td><td>1997-02-10 00:00:00.000</td></tr>",
                            "<tr><td>Old World Delicatessen</td><td>1997-07-09 00:00:00.000</td></tr>",
                            "<tr><td>Old World Delicatessen</td><td>1997-09-24 00:00:00.000</td></tr>",
                            "<tr><td>Old World Delicatessen</td><td>1997-10-16 00:00:00.000</td></tr>",
                            "<tr><td>Ottilies Käseladen</td><td>1997-01-07 00:00:00.000</td></tr>",
                            "<tr><td>Ottilies Käseladen</td><td>1997-04-16 00:00:00.000</td></tr>",
                            "<tr><td>Ottilies Käseladen</td><td>1997-05-30 00:00:00.000</td></tr>",
                            "<tr><td>Ottilies Käseladen</td><td>1997-06-26 00:00:00.000</td></tr>",
                            "<tr><td>Ottilies Käseladen</td><td>1997-09-26 00:00:00.000</td></tr>",
                            "<tr><td>Ottilies Käseladen</td><td>1997-12-05 00:00:00.000</td></tr>",
                            "<tr><td>Pericles Comidas clásicas</td><td>1997-03-13 00:00:00.000</td></tr>",
                            "<tr><td>Pericles Comidas clásicas</td><td>1997-04-10 00:00:00.000</td></tr>",
                            "<tr><td>Piccolo und mehr</td><td>1997-01-27 00:00:00.000</td></tr>",
                            "<tr><td>Piccolo und mehr</td><td>1997-03-28 00:00:00.000</td></tr>",
                            "<tr><td>Piccolo und mehr</td><td>1997-05-08 00:00:00.000</td></tr>",
                            "<tr><td>Piccolo und mehr</td><td>1997-07-11 00:00:00.000</td></tr>",
                            "<tr><td>Piccolo und mehr</td><td>1997-09-30 00:00:00.000</td></tr>",
                            "<tr><td>Piccolo und mehr</td><td>1997-11-19 00:00:00.000</td></tr>",
                            "<tr><td>Princesa Isabel Vinhos</td><td>1997-02-03 00:00:00.000</td></tr>",
                            "<tr><td>Princesa Isabel Vinhos</td><td>1997-03-17 00:00:00.000</td></tr>",
                            "<tr><td>Que Delícia</td><td>1997-01-21 00:00:00.000</td></tr>",
                            "<tr><td>Que Delícia</td><td>1997-07-02 00:00:00.000</td></tr>",
                            "<tr><td>Que Delícia</td><td>1997-08-27 00:00:00.000</td></tr>",
                            "<tr><td>Que Delícia</td><td>1997-10-28 00:00:00.000</td></tr>",
                            "<tr><td>Que Delícia</td><td>1997-12-24 00:00:00.000</td></tr>",
                            "<tr><td>Queen Cozinha</td><td>1997-01-07 00:00:00.000</td></tr>",
                            "<tr><td>Queen Cozinha</td><td>1997-03-26 00:00:00.000</td></tr>",
                            "<tr><td>Queen Cozinha</td><td>1997-08-19 00:00:00.000</td></tr>",
                            "<tr><td>Queen Cozinha</td><td>1997-09-05 00:00:00.000</td></tr>",
                            "<tr><td>Queen Cozinha</td><td>1997-10-14 00:00:00.000</td></tr>",
                            "<tr><td>Queen Cozinha</td><td>1997-11-04 00:00:00.000</td></tr>",
                            "<tr><td>Queen Cozinha</td><td>1997-12-19 00:00:00.000</td></tr>",
                            "<tr><td>QUICK-Stop</td><td>1997-01-17 00:00:00.000</td></tr>",
                            "<tr><td>QUICK-Stop</td><td>1997-02-19 00:00:00.000</td></tr>",
                            "<tr><td>QUICK-Stop</td><td>1997-04-23 00:00:00.000</td></tr>",
                            "<tr><td>QUICK-Stop</td><td>1997-05-05 00:00:00.000</td></tr>",
                            "<tr><td>QUICK-Stop</td><td>1997-05-19 00:00:00.000</td></tr>",
                            "<tr><td>QUICK-Stop</td><td>1997-05-27 00:00:00.000</td></tr>",
                            "<tr><td>QUICK-Stop</td><td>1997-07-03 00:00:00.000</td></tr>",
                            "<tr><td>QUICK-Stop</td><td>1997-09-05 00:00:00.000</td></tr>",
                            "<tr><td>QUICK-Stop</td><td>1997-10-03 00:00:00.000</td></tr>",
                            "<tr><td>QUICK-Stop</td><td>1997-10-06 00:00:00.000</td></tr>",
                            "<tr><td>QUICK-Stop</td><td>1997-10-29 00:00:00.000</td></tr>",
                            "<tr><td>QUICK-Stop</td><td>1997-11-18 00:00:00.000</td></tr>",
                            "<tr><td>QUICK-Stop</td><td>1997-12-04 00:00:00.000</td></tr>",
                            "<tr><td>QUICK-Stop</td><td>1997-12-22 00:00:00.000</td></tr>",
                            "<tr><td>Rancho grande</td><td>1997-02-17 00:00:00.000</td></tr>",
                            "<tr><td>Rancho grande</td><td>1997-10-24 00:00:00.000</td></tr>",
                            "<tr><td>Rattlesnake Canyon Grocery</td><td>1997-03-19 00:00:00.000</td></tr>",
                            "<tr><td>Rattlesnake Canyon Grocery</td><td>1997-06-10 00:00:00.000</td></tr>",
                            "<tr><td>Rattlesnake Canyon Grocery</td><td>1997-06-16 00:00:00.000</td></tr>",
                            "<tr><td>Rattlesnake Canyon Grocery</td><td>1997-07-14 00:00:00.000</td></tr>",
                            "<tr><td>Rattlesnake Canyon Grocery</td><td>1997-12-02 00:00:00.000</td></tr>",
                            "<tr><td>Reggiani Caseifici</td><td>1997-01-28 00:00:00.000</td></tr>",
                            "<tr><td>Reggiani Caseifici</td><td>1997-02-12 00:00:00.000</td></tr>",
                            "<tr><td>Reggiani Caseifici</td><td>1997-06-09 00:00:00.000</td></tr>",
                            "<tr><td>Reggiani Caseifici</td><td>1997-07-02 00:00:00.000</td></tr>",
                            "<tr><td>Reggiani Caseifici</td><td>1997-09-03 00:00:00.000</td></tr>",
                            "<tr><td>Reggiani Caseifici</td><td>1997-11-03 00:00:00.000</td></tr>",
                            "<tr><td>Ricardo Adocicados</td><td>1997-02-14 00:00:00.000</td></tr>",
                            "<tr><td>Ricardo Adocicados</td><td>1997-03-20 00:00:00.000</td></tr>",
                            "<tr><td>Ricardo Adocicados</td><td>1997-06-10 00:00:00.000</td></tr>",
                            "<tr><td>Ricardo Adocicados</td><td>1997-08-06 00:00:00.000</td></tr>",
                            "<tr><td>Ricardo Adocicados</td><td>1997-08-28 00:00:00.000</td></tr>",
                            "<tr><td>Richter Supermarkt</td><td>1997-01-20 00:00:00.000</td></tr>",
                            "<tr><td>Richter Supermarkt</td><td>1997-05-14 00:00:00.000</td></tr>",
                            "<tr><td>Richter Supermarkt</td><td>1997-09-12 00:00:00.000</td></tr>",
                            "<tr><td>Richter Supermarkt</td><td>1997-11-24 00:00:00.000</td></tr>",
                            "<tr><td>Richter Supermarkt</td><td>1997-11-28 00:00:00.000</td></tr>",
                            "<tr><td>Santé Gourmet</td><td>1997-04-29 00:00:00.000</td></tr>",
                            "<tr><td>Santé Gourmet</td><td>1997-08-20 00:00:00.000</td></tr>",
                            "<tr><td>Save-a-lot Markets</td><td>1997-02-10 00:00:00.000</td></tr>",
                            "<tr><td>Save-a-lot Markets</td><td>1997-02-20 00:00:00.000</td></tr>",
                            "<tr><td>Save-a-lot Markets</td><td>1997-04-18 00:00:00.000</td></tr>",
                            "<tr><td>Save-a-lot Markets</td><td>1997-06-02 00:00:00.000</td></tr>",
                            "<tr><td>Save-a-lot Markets</td><td>1997-07-18 00:00:00.000</td></tr>",
                            "<tr><td>Save-a-lot Markets</td><td>1997-07-22 00:00:00.000</td></tr>",
                            "<tr><td>Save-a-lot Markets</td><td>1997-07-28 00:00:00.000</td></tr>",
                            "<tr><td>Save-a-lot Markets</td><td>1997-08-11 00:00:00.000</td></tr>",
                            "<tr><td>Save-a-lot Markets</td><td>1997-09-04 00:00:00.000</td></tr>",
                            "<tr><td>Save-a-lot Markets</td><td>1997-09-23 00:00:00.000</td></tr>",
                            "<tr><td>Save-a-lot Markets</td><td>1997-10-10 00:00:00.000</td></tr>",
                            "<tr><td>Save-a-lot Markets</td><td>1997-10-21 00:00:00.000</td></tr>",
                            "<tr><td>Save-a-lot Markets</td><td>1997-10-22 00:00:00.000</td></tr>",
                            "<tr><td>Save-a-lot Markets</td><td>1997-10-22 00:00:00.000</td></tr>",
                            "<tr><td>Save-a-lot Markets</td><td>1997-10-29 00:00:00.000</td></tr>",
                            "<tr><td>Save-a-lot Markets</td><td>1997-11-20 00:00:00.000</td></tr>",
                            "<tr><td>Save-a-lot Markets</td><td>1997-11-27 00:00:00.000</td></tr>",
                            "<tr><td>Seven Seas Imports</td><td>1997-03-12 00:00:00.000</td></tr>",
                            "<tr><td>Seven Seas Imports</td><td>1997-05-01 00:00:00.000</td></tr>",
                            "<tr><td>Seven Seas Imports</td><td>1997-05-23 00:00:00.000</td></tr>",
                            "<tr><td>Seven Seas Imports</td><td>1997-12-26 00:00:00.000</td></tr>",
                            "<tr><td>Seven Seas Imports</td><td>1997-12-30 00:00:00.000</td></tr>",
                            "<tr><td>Simons bistro</td><td>1997-01-16 00:00:00.000</td></tr>",
                            "<tr><td>Simons bistro</td><td>1997-06-03 00:00:00.000</td></tr>",
                            "<tr><td>Simons bistro</td><td>1997-08-22 00:00:00.000</td></tr>",
                            "<tr><td>Simons bistro</td><td>1997-09-15 00:00:00.000</td></tr>",
                            "<tr><td>Simons bistro</td><td>1997-12-29 00:00:00.000</td></tr>",
                            "<tr><td>Spécialités du monde</td><td>1997-11-12 00:00:00.000</td></tr>",
                            "<tr><td>Split Rail Beer &amp; Ale</td><td>1997-01-31 00:00:00.000</td></tr>",
                            "<tr><td>Split Rail Beer &amp; Ale</td><td>1997-11-27 00:00:00.000</td></tr>",
                            "<tr><td>Suprêmes délices</td><td>1997-02-26 00:00:00.000</td></tr>",
                            "<tr><td>Suprêmes délices</td><td>1997-03-04 00:00:00.000</td></tr>",
                            "<tr><td>Suprêmes délices</td><td>1997-03-14 00:00:00.000</td></tr>",
                            "<tr><td>Suprêmes délices</td><td>1997-12-05 00:00:00.000</td></tr>",
                            "<tr><td>The Big Cheese</td><td>1997-10-17 00:00:00.000</td></tr>",
                            "<tr><td>The Big Cheese</td><td>1997-12-30 00:00:00.000</td></tr>",
                            "<tr><td>The Cracker Box</td><td>1997-08-07 00:00:00.000</td></tr>",
                            "<tr><td>The Cracker Box</td><td>1997-12-12 00:00:00.000</td></tr>",
                            "<tr><td>Toms Spezialitäten</td><td>1997-02-06 00:00:00.000</td></tr>",
                            "<tr><td>Toms Spezialitäten</td><td>1997-02-14 00:00:00.000</td></tr>",
                            "<tr><td>Toms Spezialitäten</td><td>1997-05-26 00:00:00.000</td></tr>",
                            "<tr><td>Toms Spezialitäten</td><td>1997-07-23 00:00:00.000</td></tr>",
                            "<tr><td>Tortuga Restaurante</td><td>1997-04-25 00:00:00.000</td></tr>",
                            "<tr><td>Tortuga Restaurante</td><td>1997-06-23 00:00:00.000</td></tr>",
                            "<tr><td>Tortuga Restaurante</td><td>1997-09-22 00:00:00.000</td></tr>",
                            "<tr><td>Tradição Hipermercados</td><td>1997-04-04 00:00:00.000</td></tr>",
                            "<tr><td>Tradição Hipermercados</td><td>1997-07-22 00:00:00.000</td></tr>",
                            "<tr><td>Trail&#39;s Head Gourmet Provisioners</td><td>1997-06-19 00:00:00.000</td></tr>",
                            "<tr><td>Trail&#39;s Head Gourmet Provisioners</td><td>1997-06-23 00:00:00.000</td></tr>",
                            "<tr><td>Vaffeljernet</td><td>1997-03-05 00:00:00.000</td></tr>",
                            "<tr><td>Vaffeljernet</td><td>1997-07-07 00:00:00.000</td></tr>",
                            "<tr><td>Vaffeljernet</td><td>1997-07-17 00:00:00.000</td></tr>",
                            "<tr><td>Vaffeljernet</td><td>1997-10-01 00:00:00.000</td></tr>",
                            "<tr><td>Vaffeljernet</td><td>1997-11-17 00:00:00.000</td></tr>",
                            "<tr><td>Vaffeljernet</td><td>1997-12-08 00:00:00.000</td></tr>",
                            "<tr><td>Victuailles en stock</td><td>1997-02-19 00:00:00.000</td></tr>",
                            "<tr><td>Victuailles en stock</td><td>1997-02-27 00:00:00.000</td></tr>",
                            "<tr><td>Victuailles en stock</td><td>1997-03-18 00:00:00.000</td></tr>",
                            "<tr><td>Victuailles en stock</td><td>1997-05-23 00:00:00.000</td></tr>",
                            "<tr><td>Victuailles en stock</td><td>1997-12-31 00:00:00.000</td></tr>",
                            "<tr><td>Vins et alcools Chevalier</td><td>1997-11-11 00:00:00.000</td></tr>",
                            "<tr><td>Vins et alcools Chevalier</td><td>1997-11-12 00:00:00.000</td></tr>",
                            "<tr><td>Wartian Herkku</td><td>1997-01-13 00:00:00.000</td></tr>",
                            "<tr><td>Wartian Herkku</td><td>1997-01-16 00:00:00.000</td></tr>",
                            "<tr><td>Wartian Herkku</td><td>1997-02-05 00:00:00.000</td></tr>",
                            "<tr><td>Wartian Herkku</td><td>1997-02-24 00:00:00.000</td></tr>",
                            "<tr><td>Wartian Herkku</td><td>1997-05-05 00:00:00.000</td></tr>",
                            "<tr><td>Wartian Herkku</td><td>1997-05-30 00:00:00.000</td></tr>",
                            "<tr><td>Wartian Herkku</td><td>1997-06-30 00:00:00.000</td></tr>",
                            "<tr><td>Wartian Herkku</td><td>1997-08-19 00:00:00.000</td></tr>",
                            "<tr><td>Wartian Herkku</td><td>1997-11-21 00:00:00.000</td></tr>",
                            "<tr><td>Wartian Herkku</td><td>1997-12-17 00:00:00.000</td></tr>",
                            "<tr><td>Wellington Importadora</td><td>1997-01-21 00:00:00.000</td></tr>",
                            "<tr><td>Wellington Importadora</td><td>1997-07-01 00:00:00.000</td></tr>",
                            "<tr><td>Wellington Importadora</td><td>1997-08-25 00:00:00.000</td></tr>",
                            "<tr><td>Wellington Importadora</td><td>1997-12-30 00:00:00.000</td></tr>",
                            "<tr><td>White Clover Markets</td><td>1997-03-10 00:00:00.000</td></tr>",
                            "<tr><td>White Clover Markets</td><td>1997-03-24 00:00:00.000</td></tr>",
                            "<tr><td>White Clover Markets</td><td>1997-04-11 00:00:00.000</td></tr>",
                            "<tr><td>White Clover Markets</td><td>1997-07-11 00:00:00.000</td></tr>",
                            "<tr><td>White Clover Markets</td><td>1997-10-06 00:00:00.000</td></tr>",
                            "<tr><td>White Clover Markets</td><td>1997-10-08 00:00:00.000</td></tr>",
                            "<tr><td>White Clover Markets</td><td>1997-10-30 00:00:00.000</td></tr>",
                            "<tr><td>White Clover Markets</td><td>1997-11-13 00:00:00.000</td></tr>",
                            "<tr><td>Wilman Kala</td><td>1997-07-30 00:00:00.000</td></tr>",
                            "<tr><td>Wilman Kala</td><td>1997-09-18 00:00:00.000</td></tr>",
                            "<tr><td>Wilman Kala</td><td>1997-10-07 00:00:00.000</td></tr>",
                            "<tr><td>Wolski  Zajazd</td><td>1997-07-25 00:00:00.000</td></tr>",
                            "<tr><td>Wolski  Zajazd</td><td>1997-12-23 00:00:00.000</td></tr>",
                            "</table>"
                        ]
                    }
                }
            ],
            "execution_count": 6
        },
        {
            "cell_type": "markdown",
            "source": [
                "Documentación: \n",
                "\n",
                "Unimos Orders con Customers po CustomerID para poder mostrar el nombre del cliente junto a la fecha del pedido. Usamos JOIN (INNER) porque el enunciado pide solo clientes que si hicieron pedidos en 1997.\n",
                "\n",
                "o.OrderDate \\>= '1997-01-01' AND  o.OrderDate \\< '1998-01-01' selecciona todas las filas con OrderDate dentro del año 1997, sin perder pedidos del 31 de diciembre con horas \\> 00:00.\n",
                "\n",
                "Elegimos unicamente las columnas requeridas: CompanyName y OrderDate.\n",
                "\n",
                "Ordenamos primero por cliente y luego por fecha para una lectura mas natural del reporte."
            ],
            "metadata": {
                "language": "sql",
                "azdata_cell_guid": "f1f4e8eb-f024-40ed-9a55-b92d483b91ef"
            },
            "attachments": {}
        }
    ]
}